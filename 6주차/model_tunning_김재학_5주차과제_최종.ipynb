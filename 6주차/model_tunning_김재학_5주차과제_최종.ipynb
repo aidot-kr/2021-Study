{
  "nbformat": 4,
  "nbformat_minor": 0,
  "metadata": {
    "orig_nbformat": 4,
    "language_info": {
      "name": "python",
      "version": "3.9.4",
      "mimetype": "text/x-python",
      "codemirror_mode": {
        "name": "ipython",
        "version": 3
      },
      "pygments_lexer": "ipython3",
      "nbconvert_exporter": "python",
      "file_extension": ".py"
    },
    "kernelspec": {
      "name": "python3",
      "display_name": "Python 3.9.4 64-bit"
    },
    "interpreter": {
      "hash": "4512f80a799f5a85ea1ff0d44149af29b2d055ed4cf61f3ee1bd85ff7c217cf3"
    },
    "colab": {
      "name": "model_tunning_김재학_5주차과제.ipynb",
      "provenance": [],
      "collapsed_sections": []
    }
  },
  "cells": [
    {
      "cell_type": "markdown",
      "metadata": {
        "id": "n8kmgA4QsoFf"
      },
      "source": [
        "## 모델 세부 튜닝"
      ]
    },
    {
      "cell_type": "markdown",
      "metadata": {
        "id": "ZgFdx_2AsoFg"
      },
      "source": [
        "### 1) 주요 개념 : 다양한 모델을 선정한 뒤 각 모델의 성능을 더 끌어올리기 위해 모델이 가진 세부 파라미터(하이퍼 파라미터)를 튜닝하거나 모델을 고도화 하는 과정을 의미"
      ]
    },
    {
      "cell_type": "markdown",
      "metadata": {
        "id": "butKUyH8soFh"
      },
      "source": [
        "### 2) 주요 방법\n",
        "###   가. Grid Search CV : 가장 일반적인 방법으로 탐색하고자 하는 하이퍼 파라미터 조합을 통해 교차 검증을 사용하여 최적 파라미터를 구하는 방법\n",
        "###   나. Random Search CV : 각 반복마다 하이퍼 파라미터에 임의의 수를 대입, 지정한 횟수만큼 평가, 탐색 횟수만큼 각기 다른 하이퍼 파라미터값을 탐색\n",
        "### 다. Hyperopt : 베이지안 최적화의 접근 방식을 취해 하이퍼 파라미터값을 찾는 방식. 베이시안 최적화는 objective function(목적 함수)를 최대/최소로 하는 최적해를 찾는 기법이며, 목적함수와 하이퍼파라미터의 Pair를 대상으로 Surrogate Model을 만들어 평가하면서 순차적으로 업데이트 하면서 최적의 조합을 찾아냄\n",
        "### 라. Optuna : 하이퍼파라미터 튜닝에 쓰고 있는 프레임웍\n",
        "(저도 그냥 GSCV쓰다가..요새는 이거 씁니다..)\n",
        "###   다. 앙상블 방법 : 여러가지 모델을 조합하여 최적의 모델을 도출하는 방법, 개별 모델이 다른 형태의 오차(error)를 만들때 좋은 방법일 수 있으나, 데이터 양이 적거나 하는 경우 오버피팅 가능성 존재\n",
        "\n",
        "\n",
        "                        "
      ]
    },
    {
      "cell_type": "markdown",
      "metadata": {
        "id": "PV4-p7uQsoFi"
      },
      "source": [
        "### 사례) 아래는 Grid Search CV를 이용한 하이퍼 파라미터 도출/모델 성능 비교 사례 코드(Random Search CV방법은 GSCV와 매우 유사하므로 생략)"
      ]
    },
    {
      "cell_type": "code",
      "metadata": {
        "id": "lhKo8Z5hsoFi"
      },
      "source": [
        "import pandas as pd\n",
        "import numpy as np"
      ],
      "execution_count": 211,
      "outputs": []
    },
    {
      "cell_type": "code",
      "metadata": {
        "id": "Bkbo4s1rtLbR"
      },
      "source": [
        "# !pip install feature_engine"
      ],
      "execution_count": 212,
      "outputs": []
    },
    {
      "cell_type": "code",
      "metadata": {
        "id": "HQd15kARsoFj"
      },
      "source": [
        "df = pd.read_csv('./WA_Fn-UseC_-Telco-Customer-Churn.csv')\n",
        "df = df.set_index('customerID') ## 분석에 불필요하므로 고객 ID를 인덱스로 DF 재구성"
      ],
      "execution_count": 213,
      "outputs": []
    },
    {
      "cell_type": "code",
      "metadata": {
        "colab": {
          "base_uri": "https://localhost:8080/",
          "height": 391
        },
        "id": "mm-ausi8soFk",
        "outputId": "709e33fe-213a-44b4-c846-d12fe418d4c6"
      },
      "source": [
        "pd.set_option('display.max_columns', None) ## 모든 컬럼을 출력하도록 함\n",
        "df.head()"
      ],
      "execution_count": 214,
      "outputs": [
        {
          "output_type": "execute_result",
          "data": {
            "text/html": [
              "<div>\n",
              "<style scoped>\n",
              "    .dataframe tbody tr th:only-of-type {\n",
              "        vertical-align: middle;\n",
              "    }\n",
              "\n",
              "    .dataframe tbody tr th {\n",
              "        vertical-align: top;\n",
              "    }\n",
              "\n",
              "    .dataframe thead th {\n",
              "        text-align: right;\n",
              "    }\n",
              "</style>\n",
              "<table border=\"1\" class=\"dataframe\">\n",
              "  <thead>\n",
              "    <tr style=\"text-align: right;\">\n",
              "      <th></th>\n",
              "      <th>gender</th>\n",
              "      <th>SeniorCitizen</th>\n",
              "      <th>Partner</th>\n",
              "      <th>Dependents</th>\n",
              "      <th>tenure</th>\n",
              "      <th>PhoneService</th>\n",
              "      <th>MultipleLines</th>\n",
              "      <th>InternetService</th>\n",
              "      <th>OnlineSecurity</th>\n",
              "      <th>OnlineBackup</th>\n",
              "      <th>DeviceProtection</th>\n",
              "      <th>TechSupport</th>\n",
              "      <th>StreamingTV</th>\n",
              "      <th>StreamingMovies</th>\n",
              "      <th>Contract</th>\n",
              "      <th>PaperlessBilling</th>\n",
              "      <th>PaymentMethod</th>\n",
              "      <th>MonthlyCharges</th>\n",
              "      <th>TotalCharges</th>\n",
              "      <th>Churn</th>\n",
              "    </tr>\n",
              "    <tr>\n",
              "      <th>customerID</th>\n",
              "      <th></th>\n",
              "      <th></th>\n",
              "      <th></th>\n",
              "      <th></th>\n",
              "      <th></th>\n",
              "      <th></th>\n",
              "      <th></th>\n",
              "      <th></th>\n",
              "      <th></th>\n",
              "      <th></th>\n",
              "      <th></th>\n",
              "      <th></th>\n",
              "      <th></th>\n",
              "      <th></th>\n",
              "      <th></th>\n",
              "      <th></th>\n",
              "      <th></th>\n",
              "      <th></th>\n",
              "      <th></th>\n",
              "      <th></th>\n",
              "    </tr>\n",
              "  </thead>\n",
              "  <tbody>\n",
              "    <tr>\n",
              "      <th>7590-VHVEG</th>\n",
              "      <td>Female</td>\n",
              "      <td>0</td>\n",
              "      <td>Yes</td>\n",
              "      <td>No</td>\n",
              "      <td>1</td>\n",
              "      <td>No</td>\n",
              "      <td>No phone service</td>\n",
              "      <td>DSL</td>\n",
              "      <td>No</td>\n",
              "      <td>Yes</td>\n",
              "      <td>No</td>\n",
              "      <td>No</td>\n",
              "      <td>No</td>\n",
              "      <td>No</td>\n",
              "      <td>Month-to-month</td>\n",
              "      <td>Yes</td>\n",
              "      <td>Electronic check</td>\n",
              "      <td>29.85</td>\n",
              "      <td>29.85</td>\n",
              "      <td>No</td>\n",
              "    </tr>\n",
              "    <tr>\n",
              "      <th>5575-GNVDE</th>\n",
              "      <td>Male</td>\n",
              "      <td>0</td>\n",
              "      <td>No</td>\n",
              "      <td>No</td>\n",
              "      <td>34</td>\n",
              "      <td>Yes</td>\n",
              "      <td>No</td>\n",
              "      <td>DSL</td>\n",
              "      <td>Yes</td>\n",
              "      <td>No</td>\n",
              "      <td>Yes</td>\n",
              "      <td>No</td>\n",
              "      <td>No</td>\n",
              "      <td>No</td>\n",
              "      <td>One year</td>\n",
              "      <td>No</td>\n",
              "      <td>Mailed check</td>\n",
              "      <td>56.95</td>\n",
              "      <td>1889.5</td>\n",
              "      <td>No</td>\n",
              "    </tr>\n",
              "    <tr>\n",
              "      <th>3668-QPYBK</th>\n",
              "      <td>Male</td>\n",
              "      <td>0</td>\n",
              "      <td>No</td>\n",
              "      <td>No</td>\n",
              "      <td>2</td>\n",
              "      <td>Yes</td>\n",
              "      <td>No</td>\n",
              "      <td>DSL</td>\n",
              "      <td>Yes</td>\n",
              "      <td>Yes</td>\n",
              "      <td>No</td>\n",
              "      <td>No</td>\n",
              "      <td>No</td>\n",
              "      <td>No</td>\n",
              "      <td>Month-to-month</td>\n",
              "      <td>Yes</td>\n",
              "      <td>Mailed check</td>\n",
              "      <td>53.85</td>\n",
              "      <td>108.15</td>\n",
              "      <td>Yes</td>\n",
              "    </tr>\n",
              "    <tr>\n",
              "      <th>7795-CFOCW</th>\n",
              "      <td>Male</td>\n",
              "      <td>0</td>\n",
              "      <td>No</td>\n",
              "      <td>No</td>\n",
              "      <td>45</td>\n",
              "      <td>No</td>\n",
              "      <td>No phone service</td>\n",
              "      <td>DSL</td>\n",
              "      <td>Yes</td>\n",
              "      <td>No</td>\n",
              "      <td>Yes</td>\n",
              "      <td>Yes</td>\n",
              "      <td>No</td>\n",
              "      <td>No</td>\n",
              "      <td>One year</td>\n",
              "      <td>No</td>\n",
              "      <td>Bank transfer (automatic)</td>\n",
              "      <td>42.30</td>\n",
              "      <td>1840.75</td>\n",
              "      <td>No</td>\n",
              "    </tr>\n",
              "    <tr>\n",
              "      <th>9237-HQITU</th>\n",
              "      <td>Female</td>\n",
              "      <td>0</td>\n",
              "      <td>No</td>\n",
              "      <td>No</td>\n",
              "      <td>2</td>\n",
              "      <td>Yes</td>\n",
              "      <td>No</td>\n",
              "      <td>Fiber optic</td>\n",
              "      <td>No</td>\n",
              "      <td>No</td>\n",
              "      <td>No</td>\n",
              "      <td>No</td>\n",
              "      <td>No</td>\n",
              "      <td>No</td>\n",
              "      <td>Month-to-month</td>\n",
              "      <td>Yes</td>\n",
              "      <td>Electronic check</td>\n",
              "      <td>70.70</td>\n",
              "      <td>151.65</td>\n",
              "      <td>Yes</td>\n",
              "    </tr>\n",
              "  </tbody>\n",
              "</table>\n",
              "</div>"
            ],
            "text/plain": [
              "            gender  SeniorCitizen Partner Dependents  tenure PhoneService  \\\n",
              "customerID                                                                  \n",
              "7590-VHVEG  Female              0     Yes         No       1           No   \n",
              "5575-GNVDE    Male              0      No         No      34          Yes   \n",
              "3668-QPYBK    Male              0      No         No       2          Yes   \n",
              "7795-CFOCW    Male              0      No         No      45           No   \n",
              "9237-HQITU  Female              0      No         No       2          Yes   \n",
              "\n",
              "               MultipleLines InternetService OnlineSecurity OnlineBackup  \\\n",
              "customerID                                                                 \n",
              "7590-VHVEG  No phone service             DSL             No          Yes   \n",
              "5575-GNVDE                No             DSL            Yes           No   \n",
              "3668-QPYBK                No             DSL            Yes          Yes   \n",
              "7795-CFOCW  No phone service             DSL            Yes           No   \n",
              "9237-HQITU                No     Fiber optic             No           No   \n",
              "\n",
              "           DeviceProtection TechSupport StreamingTV StreamingMovies  \\\n",
              "customerID                                                            \n",
              "7590-VHVEG               No          No          No              No   \n",
              "5575-GNVDE              Yes          No          No              No   \n",
              "3668-QPYBK               No          No          No              No   \n",
              "7795-CFOCW              Yes         Yes          No              No   \n",
              "9237-HQITU               No          No          No              No   \n",
              "\n",
              "                  Contract PaperlessBilling              PaymentMethod  \\\n",
              "customerID                                                               \n",
              "7590-VHVEG  Month-to-month              Yes           Electronic check   \n",
              "5575-GNVDE        One year               No               Mailed check   \n",
              "3668-QPYBK  Month-to-month              Yes               Mailed check   \n",
              "7795-CFOCW        One year               No  Bank transfer (automatic)   \n",
              "9237-HQITU  Month-to-month              Yes           Electronic check   \n",
              "\n",
              "            MonthlyCharges TotalCharges Churn  \n",
              "customerID                                     \n",
              "7590-VHVEG           29.85        29.85    No  \n",
              "5575-GNVDE           56.95       1889.5    No  \n",
              "3668-QPYBK           53.85       108.15   Yes  \n",
              "7795-CFOCW           42.30      1840.75    No  \n",
              "9237-HQITU           70.70       151.65   Yes  "
            ]
          },
          "metadata": {},
          "execution_count": 214
        }
      ]
    },
    {
      "cell_type": "code",
      "metadata": {
        "colab": {
          "base_uri": "https://localhost:8080/"
        },
        "id": "xmWp-smrsoFk",
        "outputId": "420a4f76-489b-48ca-af4d-63d4d1c5047e"
      },
      "source": [
        "df.shape"
      ],
      "execution_count": 215,
      "outputs": [
        {
          "output_type": "execute_result",
          "data": {
            "text/plain": [
              "(7043, 20)"
            ]
          },
          "metadata": {},
          "execution_count": 215
        }
      ]
    },
    {
      "cell_type": "code",
      "metadata": {
        "colab": {
          "base_uri": "https://localhost:8080/"
        },
        "id": "dJZWQ-FRsoFl",
        "outputId": "4e32e642-b99f-4773-bab9-0cdb10967b35"
      },
      "source": [
        "df.isnull().sum() ## 결측치는 없는....것 같지만.."
      ],
      "execution_count": 216,
      "outputs": [
        {
          "output_type": "execute_result",
          "data": {
            "text/plain": [
              "gender              0\n",
              "SeniorCitizen       0\n",
              "Partner             0\n",
              "Dependents          0\n",
              "tenure              0\n",
              "PhoneService        0\n",
              "MultipleLines       0\n",
              "InternetService     0\n",
              "OnlineSecurity      0\n",
              "OnlineBackup        0\n",
              "DeviceProtection    0\n",
              "TechSupport         0\n",
              "StreamingTV         0\n",
              "StreamingMovies     0\n",
              "Contract            0\n",
              "PaperlessBilling    0\n",
              "PaymentMethod       0\n",
              "MonthlyCharges      0\n",
              "TotalCharges        0\n",
              "Churn               0\n",
              "dtype: int64"
            ]
          },
          "metadata": {},
          "execution_count": 216
        }
      ]
    },
    {
      "cell_type": "code",
      "metadata": {
        "id": "Ns0I0cqisoFl"
      },
      "source": [
        "## 범주형 데이터와 연속형 데이터 Feature를 구분 해보도록 하기 위해 일단 2가지 유형으로 컬럼을 구분\n",
        "cat_columns = df.select_dtypes(['int', 'object']).columns \n",
        "ct_columns = df.select_dtypes('float').columns"
      ],
      "execution_count": 217,
      "outputs": []
    },
    {
      "cell_type": "markdown",
      "metadata": {
        "id": "_5Y9lRDZsoFl"
      },
      "source": [
        "#### cat_columns에 해당하는 컬럼의 경우, 이 중에 범주형이 아닐 수 있으니 별도 확인 필요"
      ]
    },
    {
      "cell_type": "code",
      "metadata": {
        "colab": {
          "base_uri": "https://localhost:8080/"
        },
        "id": "Af0j-MHqsoFl",
        "outputId": "eb9fda20-28dd-4bf1-eec3-7317761b5d7f"
      },
      "source": [
        "## cat_columns 분석\n",
        "cat_columns"
      ],
      "execution_count": 218,
      "outputs": [
        {
          "output_type": "execute_result",
          "data": {
            "text/plain": [
              "Index(['gender', 'SeniorCitizen', 'Partner', 'Dependents', 'tenure',\n",
              "       'PhoneService', 'MultipleLines', 'InternetService', 'OnlineSecurity',\n",
              "       'OnlineBackup', 'DeviceProtection', 'TechSupport', 'StreamingTV',\n",
              "       'StreamingMovies', 'Contract', 'PaperlessBilling', 'PaymentMethod',\n",
              "       'TotalCharges', 'Churn'],\n",
              "      dtype='object')"
            ]
          },
          "metadata": {},
          "execution_count": 218
        }
      ]
    },
    {
      "cell_type": "markdown",
      "metadata": {
        "id": "DPqvly9DsoFl"
      },
      "source": [
        "#### -. 'TotalCharges' Feature의 경우, object type이라는 것이 이상 => 데이터 형 변환이 필요해 보임\n",
        "#### -. 'Churn'은 우리가 예측해야 할 종속 변수\n",
        "#### -. 나머지 Feature 더 탐색 "
      ]
    },
    {
      "cell_type": "code",
      "metadata": {
        "colab": {
          "base_uri": "https://localhost:8080/"
        },
        "id": "5SHIFXntsoFm",
        "outputId": "60b2b7d0-8fbc-4da4-e69f-aa54fea7d1cc"
      },
      "source": [
        "## 범주형으로 예상한 Feature들의 Unique값을 확인\n",
        "import operator\n",
        "cat_col_info = {}\n",
        "for cat_col in cat_columns:\n",
        "    cat_col_info[cat_col] = len(df[cat_col].unique())\n",
        "    \n",
        "sorted(cat_col_info.items(), key=operator.itemgetter(1), reverse=True) ## 각 Feature의 unique값을 기준으로 내림차 순 정렬"
      ],
      "execution_count": 219,
      "outputs": [
        {
          "output_type": "execute_result",
          "data": {
            "text/plain": [
              "[('TotalCharges', 6531),\n",
              " ('tenure', 73),\n",
              " ('PaymentMethod', 4),\n",
              " ('MultipleLines', 3),\n",
              " ('InternetService', 3),\n",
              " ('OnlineSecurity', 3),\n",
              " ('OnlineBackup', 3),\n",
              " ('DeviceProtection', 3),\n",
              " ('TechSupport', 3),\n",
              " ('StreamingTV', 3),\n",
              " ('StreamingMovies', 3),\n",
              " ('Contract', 3),\n",
              " ('gender', 2),\n",
              " ('SeniorCitizen', 2),\n",
              " ('Partner', 2),\n",
              " ('Dependents', 2),\n",
              " ('PhoneService', 2),\n",
              " ('PaperlessBilling', 2),\n",
              " ('Churn', 2)]"
            ]
          },
          "metadata": {},
          "execution_count": 219
        }
      ]
    },
    {
      "cell_type": "markdown",
      "metadata": {
        "id": "4h5-jNJMsoFm"
      },
      "source": [
        "#### - 예상대로 'TotalCharges'의 경우, unique값이 매우 많아 연속형 변수로 보는 것이 타당하고, 성격상 Float형에 가까울 것으로 보여 dtype변환하기로 함\n",
        "#### - 'tenure'의 경우도 unique값이 많아 연속형 변수로 보는 것이 바람직함\n",
        "#### - 나머지 feature의 경우는 2~4건의 unique변수로 구성되어 있으므로 범주형 변수로 보도록 함"
      ]
    },
    {
      "cell_type": "code",
      "metadata": {
        "colab": {
          "base_uri": "https://localhost:8080/",
          "height": 340
        },
        "id": "yooARJH_soFm",
        "outputId": "cbaf037c-50e3-424a-9d79-e03eb6e59f09"
      },
      "source": [
        "## TotalCharges 데이터 타입 변환, But 데이터에 ''로 채워진 값이 있어 Error발생..\n",
        "df['TotalCharges'] = df['TotalCharges'].astype('float64') "
      ],
      "execution_count": 220,
      "outputs": [
        {
          "output_type": "error",
          "ename": "ValueError",
          "evalue": "ignored",
          "traceback": [
            "\u001b[0;31m---------------------------------------------------------------------------\u001b[0m",
            "\u001b[0;31mValueError\u001b[0m                                Traceback (most recent call last)",
            "\u001b[0;32m<ipython-input-220-789dd7d06c5f>\u001b[0m in \u001b[0;36m<module>\u001b[0;34m()\u001b[0m\n\u001b[1;32m      1\u001b[0m \u001b[0;31m## TotalCharges 데이터 타입 변환, But 데이터에 ''로 채워진 값이 있어 Error발생..\u001b[0m\u001b[0;34m\u001b[0m\u001b[0;34m\u001b[0m\u001b[0;34m\u001b[0m\u001b[0m\n\u001b[0;32m----> 2\u001b[0;31m \u001b[0mdf\u001b[0m\u001b[0;34m[\u001b[0m\u001b[0;34m'TotalCharges'\u001b[0m\u001b[0;34m]\u001b[0m \u001b[0;34m=\u001b[0m \u001b[0mdf\u001b[0m\u001b[0;34m[\u001b[0m\u001b[0;34m'TotalCharges'\u001b[0m\u001b[0;34m]\u001b[0m\u001b[0;34m.\u001b[0m\u001b[0mastype\u001b[0m\u001b[0;34m(\u001b[0m\u001b[0;34m'float64'\u001b[0m\u001b[0;34m)\u001b[0m\u001b[0;34m\u001b[0m\u001b[0;34m\u001b[0m\u001b[0m\n\u001b[0m",
            "\u001b[0;32m/usr/local/lib/python3.7/dist-packages/pandas/core/generic.py\u001b[0m in \u001b[0;36mastype\u001b[0;34m(self, dtype, copy, errors)\u001b[0m\n\u001b[1;32m   5546\u001b[0m         \u001b[0;32melse\u001b[0m\u001b[0;34m:\u001b[0m\u001b[0;34m\u001b[0m\u001b[0;34m\u001b[0m\u001b[0m\n\u001b[1;32m   5547\u001b[0m             \u001b[0;31m# else, only a single dtype is given\u001b[0m\u001b[0;34m\u001b[0m\u001b[0;34m\u001b[0m\u001b[0;34m\u001b[0m\u001b[0m\n\u001b[0;32m-> 5548\u001b[0;31m             \u001b[0mnew_data\u001b[0m \u001b[0;34m=\u001b[0m \u001b[0mself\u001b[0m\u001b[0;34m.\u001b[0m\u001b[0m_mgr\u001b[0m\u001b[0;34m.\u001b[0m\u001b[0mastype\u001b[0m\u001b[0;34m(\u001b[0m\u001b[0mdtype\u001b[0m\u001b[0;34m=\u001b[0m\u001b[0mdtype\u001b[0m\u001b[0;34m,\u001b[0m \u001b[0mcopy\u001b[0m\u001b[0;34m=\u001b[0m\u001b[0mcopy\u001b[0m\u001b[0;34m,\u001b[0m \u001b[0merrors\u001b[0m\u001b[0;34m=\u001b[0m\u001b[0merrors\u001b[0m\u001b[0;34m,\u001b[0m\u001b[0;34m)\u001b[0m\u001b[0;34m\u001b[0m\u001b[0;34m\u001b[0m\u001b[0m\n\u001b[0m\u001b[1;32m   5549\u001b[0m             \u001b[0;32mreturn\u001b[0m \u001b[0mself\u001b[0m\u001b[0;34m.\u001b[0m\u001b[0m_constructor\u001b[0m\u001b[0;34m(\u001b[0m\u001b[0mnew_data\u001b[0m\u001b[0;34m)\u001b[0m\u001b[0;34m.\u001b[0m\u001b[0m__finalize__\u001b[0m\u001b[0;34m(\u001b[0m\u001b[0mself\u001b[0m\u001b[0;34m,\u001b[0m \u001b[0mmethod\u001b[0m\u001b[0;34m=\u001b[0m\u001b[0;34m\"astype\"\u001b[0m\u001b[0;34m)\u001b[0m\u001b[0;34m\u001b[0m\u001b[0;34m\u001b[0m\u001b[0m\n\u001b[1;32m   5550\u001b[0m \u001b[0;34m\u001b[0m\u001b[0m\n",
            "\u001b[0;32m/usr/local/lib/python3.7/dist-packages/pandas/core/internals/managers.py\u001b[0m in \u001b[0;36mastype\u001b[0;34m(self, dtype, copy, errors)\u001b[0m\n\u001b[1;32m    602\u001b[0m         \u001b[0mself\u001b[0m\u001b[0;34m,\u001b[0m \u001b[0mdtype\u001b[0m\u001b[0;34m,\u001b[0m \u001b[0mcopy\u001b[0m\u001b[0;34m:\u001b[0m \u001b[0mbool\u001b[0m \u001b[0;34m=\u001b[0m \u001b[0;32mFalse\u001b[0m\u001b[0;34m,\u001b[0m \u001b[0merrors\u001b[0m\u001b[0;34m:\u001b[0m \u001b[0mstr\u001b[0m \u001b[0;34m=\u001b[0m \u001b[0;34m\"raise\"\u001b[0m\u001b[0;34m\u001b[0m\u001b[0;34m\u001b[0m\u001b[0m\n\u001b[1;32m    603\u001b[0m     ) -> \"BlockManager\":\n\u001b[0;32m--> 604\u001b[0;31m         \u001b[0;32mreturn\u001b[0m \u001b[0mself\u001b[0m\u001b[0;34m.\u001b[0m\u001b[0mapply\u001b[0m\u001b[0;34m(\u001b[0m\u001b[0;34m\"astype\"\u001b[0m\u001b[0;34m,\u001b[0m \u001b[0mdtype\u001b[0m\u001b[0;34m=\u001b[0m\u001b[0mdtype\u001b[0m\u001b[0;34m,\u001b[0m \u001b[0mcopy\u001b[0m\u001b[0;34m=\u001b[0m\u001b[0mcopy\u001b[0m\u001b[0;34m,\u001b[0m \u001b[0merrors\u001b[0m\u001b[0;34m=\u001b[0m\u001b[0merrors\u001b[0m\u001b[0;34m)\u001b[0m\u001b[0;34m\u001b[0m\u001b[0;34m\u001b[0m\u001b[0m\n\u001b[0m\u001b[1;32m    605\u001b[0m \u001b[0;34m\u001b[0m\u001b[0m\n\u001b[1;32m    606\u001b[0m     def convert(\n",
            "\u001b[0;32m/usr/local/lib/python3.7/dist-packages/pandas/core/internals/managers.py\u001b[0m in \u001b[0;36mapply\u001b[0;34m(self, f, align_keys, **kwargs)\u001b[0m\n\u001b[1;32m    407\u001b[0m                 \u001b[0mapplied\u001b[0m \u001b[0;34m=\u001b[0m \u001b[0mb\u001b[0m\u001b[0;34m.\u001b[0m\u001b[0mapply\u001b[0m\u001b[0;34m(\u001b[0m\u001b[0mf\u001b[0m\u001b[0;34m,\u001b[0m \u001b[0;34m**\u001b[0m\u001b[0mkwargs\u001b[0m\u001b[0;34m)\u001b[0m\u001b[0;34m\u001b[0m\u001b[0;34m\u001b[0m\u001b[0m\n\u001b[1;32m    408\u001b[0m             \u001b[0;32melse\u001b[0m\u001b[0;34m:\u001b[0m\u001b[0;34m\u001b[0m\u001b[0;34m\u001b[0m\u001b[0m\n\u001b[0;32m--> 409\u001b[0;31m                 \u001b[0mapplied\u001b[0m \u001b[0;34m=\u001b[0m \u001b[0mgetattr\u001b[0m\u001b[0;34m(\u001b[0m\u001b[0mb\u001b[0m\u001b[0;34m,\u001b[0m \u001b[0mf\u001b[0m\u001b[0;34m)\u001b[0m\u001b[0;34m(\u001b[0m\u001b[0;34m**\u001b[0m\u001b[0mkwargs\u001b[0m\u001b[0;34m)\u001b[0m\u001b[0;34m\u001b[0m\u001b[0;34m\u001b[0m\u001b[0m\n\u001b[0m\u001b[1;32m    410\u001b[0m             \u001b[0mresult_blocks\u001b[0m \u001b[0;34m=\u001b[0m \u001b[0m_extend_blocks\u001b[0m\u001b[0;34m(\u001b[0m\u001b[0mapplied\u001b[0m\u001b[0;34m,\u001b[0m \u001b[0mresult_blocks\u001b[0m\u001b[0;34m)\u001b[0m\u001b[0;34m\u001b[0m\u001b[0;34m\u001b[0m\u001b[0m\n\u001b[1;32m    411\u001b[0m \u001b[0;34m\u001b[0m\u001b[0m\n",
            "\u001b[0;32m/usr/local/lib/python3.7/dist-packages/pandas/core/internals/blocks.py\u001b[0m in \u001b[0;36mastype\u001b[0;34m(self, dtype, copy, errors)\u001b[0m\n\u001b[1;32m    593\u001b[0m             \u001b[0mvals1d\u001b[0m \u001b[0;34m=\u001b[0m \u001b[0mvalues\u001b[0m\u001b[0;34m.\u001b[0m\u001b[0mravel\u001b[0m\u001b[0;34m(\u001b[0m\u001b[0;34m)\u001b[0m\u001b[0;34m\u001b[0m\u001b[0;34m\u001b[0m\u001b[0m\n\u001b[1;32m    594\u001b[0m             \u001b[0;32mtry\u001b[0m\u001b[0;34m:\u001b[0m\u001b[0;34m\u001b[0m\u001b[0;34m\u001b[0m\u001b[0m\n\u001b[0;32m--> 595\u001b[0;31m                 \u001b[0mvalues\u001b[0m \u001b[0;34m=\u001b[0m \u001b[0mastype_nansafe\u001b[0m\u001b[0;34m(\u001b[0m\u001b[0mvals1d\u001b[0m\u001b[0;34m,\u001b[0m \u001b[0mdtype\u001b[0m\u001b[0;34m,\u001b[0m \u001b[0mcopy\u001b[0m\u001b[0;34m=\u001b[0m\u001b[0;32mTrue\u001b[0m\u001b[0;34m)\u001b[0m\u001b[0;34m\u001b[0m\u001b[0;34m\u001b[0m\u001b[0m\n\u001b[0m\u001b[1;32m    596\u001b[0m             \u001b[0;32mexcept\u001b[0m \u001b[0;34m(\u001b[0m\u001b[0mValueError\u001b[0m\u001b[0;34m,\u001b[0m \u001b[0mTypeError\u001b[0m\u001b[0;34m)\u001b[0m\u001b[0;34m:\u001b[0m\u001b[0;34m\u001b[0m\u001b[0;34m\u001b[0m\u001b[0m\n\u001b[1;32m    597\u001b[0m                 \u001b[0;31m# e.g. astype_nansafe can fail on object-dtype of strings\u001b[0m\u001b[0;34m\u001b[0m\u001b[0;34m\u001b[0m\u001b[0;34m\u001b[0m\u001b[0m\n",
            "\u001b[0;32m/usr/local/lib/python3.7/dist-packages/pandas/core/dtypes/cast.py\u001b[0m in \u001b[0;36mastype_nansafe\u001b[0;34m(arr, dtype, copy, skipna)\u001b[0m\n\u001b[1;32m    995\u001b[0m     \u001b[0;32mif\u001b[0m \u001b[0mcopy\u001b[0m \u001b[0;32mor\u001b[0m \u001b[0mis_object_dtype\u001b[0m\u001b[0;34m(\u001b[0m\u001b[0marr\u001b[0m\u001b[0;34m)\u001b[0m \u001b[0;32mor\u001b[0m \u001b[0mis_object_dtype\u001b[0m\u001b[0;34m(\u001b[0m\u001b[0mdtype\u001b[0m\u001b[0;34m)\u001b[0m\u001b[0;34m:\u001b[0m\u001b[0;34m\u001b[0m\u001b[0;34m\u001b[0m\u001b[0m\n\u001b[1;32m    996\u001b[0m         \u001b[0;31m# Explicit copy, or required since NumPy can't view from / to object.\u001b[0m\u001b[0;34m\u001b[0m\u001b[0;34m\u001b[0m\u001b[0;34m\u001b[0m\u001b[0m\n\u001b[0;32m--> 997\u001b[0;31m         \u001b[0;32mreturn\u001b[0m \u001b[0marr\u001b[0m\u001b[0;34m.\u001b[0m\u001b[0mastype\u001b[0m\u001b[0;34m(\u001b[0m\u001b[0mdtype\u001b[0m\u001b[0;34m,\u001b[0m \u001b[0mcopy\u001b[0m\u001b[0;34m=\u001b[0m\u001b[0;32mTrue\u001b[0m\u001b[0;34m)\u001b[0m\u001b[0;34m\u001b[0m\u001b[0;34m\u001b[0m\u001b[0m\n\u001b[0m\u001b[1;32m    998\u001b[0m \u001b[0;34m\u001b[0m\u001b[0m\n\u001b[1;32m    999\u001b[0m     \u001b[0;32mreturn\u001b[0m \u001b[0marr\u001b[0m\u001b[0;34m.\u001b[0m\u001b[0mview\u001b[0m\u001b[0;34m(\u001b[0m\u001b[0mdtype\u001b[0m\u001b[0;34m)\u001b[0m\u001b[0;34m\u001b[0m\u001b[0;34m\u001b[0m\u001b[0m\n",
            "\u001b[0;31mValueError\u001b[0m: could not convert string to float: "
          ]
        }
      ]
    },
    {
      "cell_type": "code",
      "metadata": {
        "id": "WRD71oKosoFn"
      },
      "source": [
        "## TotalCharges 데이터의 ''를 nan으로 채우고 데이터 타입 변환\n",
        "df.loc[df['TotalCharges'] == ' ', 'TotalCharges'] = np.nan\n",
        "df['TotalCharges'] = df['TotalCharges'].astype('float64')"
      ],
      "execution_count": 221,
      "outputs": []
    },
    {
      "cell_type": "code",
      "metadata": {
        "colab": {
          "base_uri": "https://localhost:8080/"
        },
        "id": "wiYA4xPDsoFn",
        "outputId": "f74d6eab-52f5-4eca-d079-627adcaca02d"
      },
      "source": [
        "df.isnull().sum() ### 최종적으로 TotalCharges는 11개의 결측치가 있음을 알 수 있음"
      ],
      "execution_count": 222,
      "outputs": [
        {
          "output_type": "execute_result",
          "data": {
            "text/plain": [
              "gender               0\n",
              "SeniorCitizen        0\n",
              "Partner              0\n",
              "Dependents           0\n",
              "tenure               0\n",
              "PhoneService         0\n",
              "MultipleLines        0\n",
              "InternetService      0\n",
              "OnlineSecurity       0\n",
              "OnlineBackup         0\n",
              "DeviceProtection     0\n",
              "TechSupport          0\n",
              "StreamingTV          0\n",
              "StreamingMovies      0\n",
              "Contract             0\n",
              "PaperlessBilling     0\n",
              "PaymentMethod        0\n",
              "MonthlyCharges       0\n",
              "TotalCharges        11\n",
              "Churn                0\n",
              "dtype: int64"
            ]
          },
          "metadata": {},
          "execution_count": 222
        }
      ]
    },
    {
      "cell_type": "code",
      "metadata": {
        "colab": {
          "base_uri": "https://localhost:8080/"
        },
        "id": "blwGJnBzsoFn",
        "outputId": "cad5ba85-f473-4452-b981-f7604e0c9abc"
      },
      "source": [
        "## 결측값 비율이 전체 0.16%정도이므로, 삭제 결정\n",
        "print((len(df.loc[df['TotalCharges'].isnull()]) / df.shape[0]) * 100)\n",
        "df = df.loc[~df['TotalCharges'].isnull()]\n",
        "df['TotalCharges'] = df['TotalCharges'].astype('float64')"
      ],
      "execution_count": 223,
      "outputs": [
        {
          "output_type": "stream",
          "name": "stdout",
          "text": [
            "0.1561834445548772\n"
          ]
        }
      ]
    },
    {
      "cell_type": "code",
      "metadata": {
        "id": "WzH2x2kzsoFn"
      },
      "source": [
        "## 범주형 데이터와 연속형 데이터 Feature 재정의\n",
        "cat_columns = [x for x in cat_columns if (x!='TotalCharges') & (x!='Churn') & (x!='tenure')] \n",
        "ct_columns = [x for x in df.select_dtypes('float').columns] + ['tenure']"
      ],
      "execution_count": 224,
      "outputs": []
    },
    {
      "cell_type": "code",
      "metadata": {
        "colab": {
          "base_uri": "https://localhost:8080/"
        },
        "id": "YSXP_XDnsoFo",
        "outputId": "449054e0-9c76-42b2-da69-d04bef9f4c6a"
      },
      "source": [
        "print(\"범주형 Feature : \\n\", cat_columns)\n",
        "print(\"연속형 Feature : \\n\", ct_columns)"
      ],
      "execution_count": 225,
      "outputs": [
        {
          "output_type": "stream",
          "name": "stdout",
          "text": [
            "범주형 Feature : \n",
            " ['gender', 'SeniorCitizen', 'Partner', 'Dependents', 'PhoneService', 'MultipleLines', 'InternetService', 'OnlineSecurity', 'OnlineBackup', 'DeviceProtection', 'TechSupport', 'StreamingTV', 'StreamingMovies', 'Contract', 'PaperlessBilling', 'PaymentMethod']\n",
            "연속형 Feature : \n",
            " ['MonthlyCharges', 'TotalCharges', 'tenure']\n"
          ]
        }
      ]
    },
    {
      "cell_type": "code",
      "metadata": {
        "id": "NsXeAD1BsoFp"
      },
      "source": [
        "## 일부 컬럼 dtype 변경\n",
        "df['SeniorCitizen'] = df['SeniorCitizen'].astype(object)"
      ],
      "execution_count": 226,
      "outputs": []
    },
    {
      "cell_type": "code",
      "metadata": {
        "colab": {
          "base_uri": "https://localhost:8080/"
        },
        "id": "dbN7_1SBsoFp",
        "outputId": "f60c677e-d0ba-4291-c07a-12b87e375af4"
      },
      "source": [
        "df.info()"
      ],
      "execution_count": 227,
      "outputs": [
        {
          "output_type": "stream",
          "name": "stdout",
          "text": [
            "<class 'pandas.core.frame.DataFrame'>\n",
            "Index: 7032 entries, 7590-VHVEG to 3186-AJIEK\n",
            "Data columns (total 20 columns):\n",
            " #   Column            Non-Null Count  Dtype  \n",
            "---  ------            --------------  -----  \n",
            " 0   gender            7032 non-null   object \n",
            " 1   SeniorCitizen     7032 non-null   object \n",
            " 2   Partner           7032 non-null   object \n",
            " 3   Dependents        7032 non-null   object \n",
            " 4   tenure            7032 non-null   int64  \n",
            " 5   PhoneService      7032 non-null   object \n",
            " 6   MultipleLines     7032 non-null   object \n",
            " 7   InternetService   7032 non-null   object \n",
            " 8   OnlineSecurity    7032 non-null   object \n",
            " 9   OnlineBackup      7032 non-null   object \n",
            " 10  DeviceProtection  7032 non-null   object \n",
            " 11  TechSupport       7032 non-null   object \n",
            " 12  StreamingTV       7032 non-null   object \n",
            " 13  StreamingMovies   7032 non-null   object \n",
            " 14  Contract          7032 non-null   object \n",
            " 15  PaperlessBilling  7032 non-null   object \n",
            " 16  PaymentMethod     7032 non-null   object \n",
            " 17  MonthlyCharges    7032 non-null   float64\n",
            " 18  TotalCharges      7032 non-null   float64\n",
            " 19  Churn             7032 non-null   object \n",
            "dtypes: float64(2), int64(1), object(17)\n",
            "memory usage: 1.1+ MB\n"
          ]
        }
      ]
    },
    {
      "cell_type": "code",
      "metadata": {
        "id": "3XA_ufbxsoFp"
      },
      "source": [
        "### 종속, 독립 변수 분리\n",
        "X = df.drop('Churn', axis=1)\n",
        "y = df['Churn']"
      ],
      "execution_count": 228,
      "outputs": []
    },
    {
      "cell_type": "code",
      "metadata": {
        "id": "Mc9lv_EKsoFq"
      },
      "source": [
        "## 데이터셋 분리\n",
        "from sklearn.model_selection import train_test_split\n",
        "x_train, x_test, y_train, y_test = train_test_split(X, y, test_size=0.2, shuffle=True, stratify=y, random_state=34)"
      ],
      "execution_count": 229,
      "outputs": []
    },
    {
      "cell_type": "code",
      "metadata": {
        "colab": {
          "base_uri": "https://localhost:8080/"
        },
        "id": "wiH8gzFAsoFq",
        "outputId": "6a622ceb-7f9f-470a-9be8-1fb63afb5b13"
      },
      "source": [
        "print(x_train.shape, x_test.shape, y_train.shape, y_test.shape)"
      ],
      "execution_count": 230,
      "outputs": [
        {
          "output_type": "stream",
          "name": "stdout",
          "text": [
            "(5625, 19) (1407, 19) (5625,) (1407,)\n"
          ]
        }
      ]
    },
    {
      "cell_type": "code",
      "metadata": {
        "colab": {
          "base_uri": "https://localhost:8080/"
        },
        "id": "xfHbTlDBsoFq",
        "outputId": "c7b32a64-f093-4d0f-f6cb-1d97fe89bcd4"
      },
      "source": [
        "## 라벨 분포 확인(약한 클래스 불균형)\n",
        "y_train.value_counts(normalize=True)"
      ],
      "execution_count": 231,
      "outputs": [
        {
          "output_type": "execute_result",
          "data": {
            "text/plain": [
              "No     0.734222\n",
              "Yes    0.265778\n",
              "Name: Churn, dtype: float64"
            ]
          },
          "metadata": {},
          "execution_count": 231
        }
      ]
    },
    {
      "cell_type": "code",
      "metadata": {
        "id": "ZPqo-tuxsoFr"
      },
      "source": [
        "# 라벨 데이터 변환\n",
        "y_train = y_train.apply(lambda x : 0 if x == 'No' else 1)\n",
        "y_test = y_test.apply(lambda x : 0 if x == 'No' else 1)"
      ],
      "execution_count": 232,
      "outputs": []
    },
    {
      "cell_type": "code",
      "metadata": {
        "id": "BH-MkxiIsoFr"
      },
      "source": [
        "## 이상치 확인\n",
        "def IQR_rule(val_list):\n",
        "    Q1 = np.quantile(val_list, 0.25)\n",
        "    Q3 = np.quantile(val_list, 0.75)\n",
        "    IQR = Q3-Q1\n",
        "    \n",
        "    not_outlier_condition = (Q3 + 1.5*IQR > val_list) & (Q3 - 1.5*IQR < val_list)\n",
        "    return not_outlier_condition"
      ],
      "execution_count": 233,
      "outputs": []
    },
    {
      "cell_type": "code",
      "metadata": {
        "colab": {
          "base_uri": "https://localhost:8080/"
        },
        "id": "j_xXsOGzsoFr",
        "outputId": "c7fae502-a8df-45eb-ec85-12397a6df583"
      },
      "source": [
        "len(x_train) - x_train[ct_columns].apply(IQR_rule).sum(axis=0) ## 이상치는 없는 것으로 확인.."
      ],
      "execution_count": 234,
      "outputs": [
        {
          "output_type": "execute_result",
          "data": {
            "text/plain": [
              "MonthlyCharges    0\n",
              "TotalCharges      0\n",
              "tenure            0\n",
              "dtype: int64"
            ]
          },
          "metadata": {},
          "execution_count": 234
        }
      ]
    },
    {
      "cell_type": "code",
      "metadata": {
        "colab": {
          "base_uri": "https://localhost:8080/"
        },
        "id": "5jj3sh4EsoFr",
        "outputId": "34eea47e-4849-4cbb-e9b5-9b76c1a24193"
      },
      "source": [
        "## 연속형 변수 skewness 확인\n",
        "for col in ct_columns:\n",
        "    print(\"{} : {:.4f}\".format(col, x_train[col].skew()))"
      ],
      "execution_count": 235,
      "outputs": [
        {
          "output_type": "stream",
          "name": "stdout",
          "text": [
            "MonthlyCharges : -0.2141\n",
            "TotalCharges : 0.9741\n",
            "tenure : 0.2483\n"
          ]
        }
      ]
    },
    {
      "cell_type": "markdown",
      "metadata": {
        "id": "QS7t4Z21soFs"
      },
      "source": [
        "#### 변수치우침이 없는 형태로 간주해도 무방"
      ]
    },
    {
      "cell_type": "code",
      "metadata": {
        "id": "S7ossGlisoFs"
      },
      "source": [
        "## 연속형 변수 scaling\n",
        "from sklearn.preprocessing import StandardScaler\n",
        "import warnings\n",
        "warnings.filterwarnings('ignore')\n",
        "sc = StandardScaler()\n",
        "x_train[ct_columns] = sc.fit_transform(x_train[ct_columns])\n",
        "x_test[ct_columns] = sc.transform(x_test[ct_columns])"
      ],
      "execution_count": 236,
      "outputs": []
    },
    {
      "cell_type": "code",
      "metadata": {
        "id": "lasZ4R13O5dJ"
      },
      "source": [
        "## 범주형 변수 원핫인코딩\n",
        "x_train = pd.get_dummies(x_train, columns=cat_columns, drop_first=True)\n",
        "x_test = pd.get_dummies(x_test, columns=cat_columns, drop_first=True)"
      ],
      "execution_count": 237,
      "outputs": []
    },
    {
      "cell_type": "code",
      "metadata": {
        "id": "T6sijNr9soFs"
      },
      "source": [
        "x_train = x_train.reset_index(drop=True)\n",
        "x_test = x_test.reset_index(drop=True)"
      ],
      "execution_count": 238,
      "outputs": []
    },
    {
      "cell_type": "code",
      "metadata": {
        "colab": {
          "base_uri": "https://localhost:8080/"
        },
        "id": "vhkXSrEKO5dJ",
        "outputId": "e0af56fd-d319-4aa3-9b68-c0764dee093e"
      },
      "source": [
        "print(x_train.shape, x_test.shape)"
      ],
      "execution_count": 239,
      "outputs": [
        {
          "output_type": "stream",
          "name": "stdout",
          "text": [
            "(5625, 30) (1407, 30)\n"
          ]
        }
      ]
    },
    {
      "cell_type": "markdown",
      "metadata": {
        "id": "iTGBuowxsoFs"
      },
      "source": [
        "## 모델 세부 튜닝 기법(본 주제)"
      ]
    },
    {
      "cell_type": "code",
      "metadata": {
        "id": "Vd0AcCGLsoFs"
      },
      "source": [
        "from sklearn.linear_model import LogisticRegression\n",
        "from sklearn.svm import SVC\n",
        "from sklearn.ensemble import RandomForestClassifier\n",
        "from sklearn.model_selection import GridSearchCV\n",
        "from sklearn.model_selection import StratifiedKFold\n",
        "from sklearn.metrics import roc_auc_score"
      ],
      "execution_count": 240,
      "outputs": []
    },
    {
      "cell_type": "code",
      "metadata": {
        "id": "3UH0JK0nsoFs"
      },
      "source": [
        "## 교차 검증시 StratifiedKFold를 이용(타겟값(종속변수 값)이 몰리는 것을 막기 위해)\n",
        "folds = StratifiedKFold(n_splits=20, shuffle=True, random_state=42)"
      ],
      "execution_count": 76,
      "outputs": []
    },
    {
      "cell_type": "code",
      "metadata": {
        "colab": {
          "base_uri": "https://localhost:8080/"
        },
        "id": "9Ndknh6TsoFt",
        "outputId": "74618d09-9f4c-4aea-b027-9f6437b501c1"
      },
      "source": [
        "### Logistic Regression 모델을 위한 최적 하이퍼 파라미터 추정(GSCV)\n",
        "lr = LogisticRegression(max_iter=1000)\n",
        "\n",
        "## 하이퍼 파라미터 조합을 위한 딕셔너리 생성\n",
        "parameter_grid = {'class_weight' : ['balanced', None],\n",
        "                  'penalty' : ['l2', 'l1'],\n",
        "                  'C' : [0.001, 0.05, 0.08, 0.01, 0.1, 1.0, 10.0],\n",
        "                  'solver': ['liblinear']\n",
        "                 }\n",
        "\n",
        "## 하이퍼 파라미터 조합을 통해 roc_auc를 최적의 값으로 갖는 Logistic Regression 모델 학습 \n",
        "grid_search = GridSearchCV(lr, param_grid=parameter_grid, cv=folds, scoring='roc_auc', n_jobs=-1)  \n",
        "grid_search.fit(x_train, y_train)\n",
        "print(f'Best score of GridSearchCV: {grid_search.best_score_}')  ### best score 도출 결과\n",
        "print(f'Best parameters: {grid_search.best_params_}')  ## best parameter 도출 결과"
      ],
      "execution_count": 77,
      "outputs": [
        {
          "output_type": "stream",
          "name": "stdout",
          "text": [
            "Best score of GridSearchCV: 0.8490748469304213\n",
            "Best parameters: {'C': 10.0, 'class_weight': None, 'penalty': 'l2', 'solver': 'liblinear'}\n"
          ]
        }
      ]
    },
    {
      "cell_type": "code",
      "metadata": {
        "colab": {
          "base_uri": "https://localhost:8080/",
          "height": 479
        },
        "id": "c8OGZsMvsoFt",
        "outputId": "65c252ea-5f55-4d03-c435-5ec12cdae9e3"
      },
      "source": [
        "pd.DataFrame(grid_search.cv_results_)[:5]  ## crossvalidation 수행 결과를 dataframe 형태로 보여줌"
      ],
      "execution_count": 78,
      "outputs": [
        {
          "output_type": "execute_result",
          "data": {
            "text/html": [
              "<div>\n",
              "<style scoped>\n",
              "    .dataframe tbody tr th:only-of-type {\n",
              "        vertical-align: middle;\n",
              "    }\n",
              "\n",
              "    .dataframe tbody tr th {\n",
              "        vertical-align: top;\n",
              "    }\n",
              "\n",
              "    .dataframe thead th {\n",
              "        text-align: right;\n",
              "    }\n",
              "</style>\n",
              "<table border=\"1\" class=\"dataframe\">\n",
              "  <thead>\n",
              "    <tr style=\"text-align: right;\">\n",
              "      <th></th>\n",
              "      <th>mean_fit_time</th>\n",
              "      <th>std_fit_time</th>\n",
              "      <th>mean_score_time</th>\n",
              "      <th>std_score_time</th>\n",
              "      <th>param_C</th>\n",
              "      <th>param_class_weight</th>\n",
              "      <th>param_penalty</th>\n",
              "      <th>param_solver</th>\n",
              "      <th>params</th>\n",
              "      <th>split0_test_score</th>\n",
              "      <th>split1_test_score</th>\n",
              "      <th>split2_test_score</th>\n",
              "      <th>split3_test_score</th>\n",
              "      <th>split4_test_score</th>\n",
              "      <th>split5_test_score</th>\n",
              "      <th>split6_test_score</th>\n",
              "      <th>split7_test_score</th>\n",
              "      <th>split8_test_score</th>\n",
              "      <th>split9_test_score</th>\n",
              "      <th>split10_test_score</th>\n",
              "      <th>split11_test_score</th>\n",
              "      <th>split12_test_score</th>\n",
              "      <th>split13_test_score</th>\n",
              "      <th>split14_test_score</th>\n",
              "      <th>split15_test_score</th>\n",
              "      <th>split16_test_score</th>\n",
              "      <th>split17_test_score</th>\n",
              "      <th>split18_test_score</th>\n",
              "      <th>split19_test_score</th>\n",
              "      <th>mean_test_score</th>\n",
              "      <th>std_test_score</th>\n",
              "      <th>rank_test_score</th>\n",
              "    </tr>\n",
              "  </thead>\n",
              "  <tbody>\n",
              "    <tr>\n",
              "      <th>0</th>\n",
              "      <td>0.025596</td>\n",
              "      <td>0.005659</td>\n",
              "      <td>0.003734</td>\n",
              "      <td>0.000510</td>\n",
              "      <td>0.001</td>\n",
              "      <td>balanced</td>\n",
              "      <td>l2</td>\n",
              "      <td>liblinear</td>\n",
              "      <td>{'C': 0.001, 'class_weight': 'balanced', 'pena...</td>\n",
              "      <td>0.803092</td>\n",
              "      <td>0.841739</td>\n",
              "      <td>0.841159</td>\n",
              "      <td>0.851367</td>\n",
              "      <td>0.770759</td>\n",
              "      <td>0.869903</td>\n",
              "      <td>0.855987</td>\n",
              "      <td>0.854563</td>\n",
              "      <td>0.826537</td>\n",
              "      <td>0.850680</td>\n",
              "      <td>0.843042</td>\n",
              "      <td>0.827120</td>\n",
              "      <td>0.821618</td>\n",
              "      <td>0.866537</td>\n",
              "      <td>0.858770</td>\n",
              "      <td>0.805049</td>\n",
              "      <td>0.835275</td>\n",
              "      <td>0.827314</td>\n",
              "      <td>0.826602</td>\n",
              "      <td>0.874175</td>\n",
              "      <td>0.837564</td>\n",
              "      <td>0.024648</td>\n",
              "      <td>23</td>\n",
              "    </tr>\n",
              "    <tr>\n",
              "      <th>1</th>\n",
              "      <td>0.015718</td>\n",
              "      <td>0.002906</td>\n",
              "      <td>0.003334</td>\n",
              "      <td>0.000178</td>\n",
              "      <td>0.001</td>\n",
              "      <td>balanced</td>\n",
              "      <td>l1</td>\n",
              "      <td>liblinear</td>\n",
              "      <td>{'C': 0.001, 'class_weight': 'balanced', 'pena...</td>\n",
              "      <td>0.704734</td>\n",
              "      <td>0.744960</td>\n",
              "      <td>0.744219</td>\n",
              "      <td>0.739653</td>\n",
              "      <td>0.713464</td>\n",
              "      <td>0.757540</td>\n",
              "      <td>0.751424</td>\n",
              "      <td>0.749676</td>\n",
              "      <td>0.747152</td>\n",
              "      <td>0.815631</td>\n",
              "      <td>0.735987</td>\n",
              "      <td>0.757638</td>\n",
              "      <td>0.752039</td>\n",
              "      <td>0.762362</td>\n",
              "      <td>0.741553</td>\n",
              "      <td>0.732654</td>\n",
              "      <td>0.747282</td>\n",
              "      <td>0.693786</td>\n",
              "      <td>0.745534</td>\n",
              "      <td>0.738285</td>\n",
              "      <td>0.743779</td>\n",
              "      <td>0.023726</td>\n",
              "      <td>27</td>\n",
              "    </tr>\n",
              "    <tr>\n",
              "      <th>2</th>\n",
              "      <td>0.021013</td>\n",
              "      <td>0.003318</td>\n",
              "      <td>0.003789</td>\n",
              "      <td>0.001412</td>\n",
              "      <td>0.001</td>\n",
              "      <td>None</td>\n",
              "      <td>l2</td>\n",
              "      <td>liblinear</td>\n",
              "      <td>{'C': 0.001, 'class_weight': None, 'penalty': ...</td>\n",
              "      <td>0.794589</td>\n",
              "      <td>0.841610</td>\n",
              "      <td>0.830081</td>\n",
              "      <td>0.842041</td>\n",
              "      <td>0.769992</td>\n",
              "      <td>0.858770</td>\n",
              "      <td>0.860518</td>\n",
              "      <td>0.848220</td>\n",
              "      <td>0.830162</td>\n",
              "      <td>0.840065</td>\n",
              "      <td>0.836052</td>\n",
              "      <td>0.821748</td>\n",
              "      <td>0.816440</td>\n",
              "      <td>0.855210</td>\n",
              "      <td>0.846602</td>\n",
              "      <td>0.794628</td>\n",
              "      <td>0.832751</td>\n",
              "      <td>0.821294</td>\n",
              "      <td>0.806990</td>\n",
              "      <td>0.870939</td>\n",
              "      <td>0.830935</td>\n",
              "      <td>0.024545</td>\n",
              "      <td>25</td>\n",
              "    </tr>\n",
              "    <tr>\n",
              "      <th>3</th>\n",
              "      <td>0.015343</td>\n",
              "      <td>0.003048</td>\n",
              "      <td>0.003581</td>\n",
              "      <td>0.001379</td>\n",
              "      <td>0.001</td>\n",
              "      <td>None</td>\n",
              "      <td>l1</td>\n",
              "      <td>liblinear</td>\n",
              "      <td>{'C': 0.001, 'class_weight': None, 'penalty': ...</td>\n",
              "      <td>0.500000</td>\n",
              "      <td>0.500000</td>\n",
              "      <td>0.500000</td>\n",
              "      <td>0.500000</td>\n",
              "      <td>0.500000</td>\n",
              "      <td>0.500000</td>\n",
              "      <td>0.500000</td>\n",
              "      <td>0.500000</td>\n",
              "      <td>0.500000</td>\n",
              "      <td>0.500000</td>\n",
              "      <td>0.500000</td>\n",
              "      <td>0.500000</td>\n",
              "      <td>0.500000</td>\n",
              "      <td>0.500000</td>\n",
              "      <td>0.500000</td>\n",
              "      <td>0.500000</td>\n",
              "      <td>0.500000</td>\n",
              "      <td>0.500000</td>\n",
              "      <td>0.500000</td>\n",
              "      <td>0.500000</td>\n",
              "      <td>0.500000</td>\n",
              "      <td>0.000000</td>\n",
              "      <td>28</td>\n",
              "    </tr>\n",
              "    <tr>\n",
              "      <th>4</th>\n",
              "      <td>0.028838</td>\n",
              "      <td>0.001632</td>\n",
              "      <td>0.003654</td>\n",
              "      <td>0.000247</td>\n",
              "      <td>0.05</td>\n",
              "      <td>balanced</td>\n",
              "      <td>l2</td>\n",
              "      <td>liblinear</td>\n",
              "      <td>{'C': 0.05, 'class_weight': 'balanced', 'penal...</td>\n",
              "      <td>0.810113</td>\n",
              "      <td>0.851014</td>\n",
              "      <td>0.860483</td>\n",
              "      <td>0.860692</td>\n",
              "      <td>0.784108</td>\n",
              "      <td>0.879935</td>\n",
              "      <td>0.866796</td>\n",
              "      <td>0.860388</td>\n",
              "      <td>0.830291</td>\n",
              "      <td>0.872168</td>\n",
              "      <td>0.850097</td>\n",
              "      <td>0.821359</td>\n",
              "      <td>0.841812</td>\n",
              "      <td>0.875728</td>\n",
              "      <td>0.864531</td>\n",
              "      <td>0.814110</td>\n",
              "      <td>0.842460</td>\n",
              "      <td>0.845631</td>\n",
              "      <td>0.838900</td>\n",
              "      <td>0.878447</td>\n",
              "      <td>0.847453</td>\n",
              "      <td>0.024750</td>\n",
              "      <td>15</td>\n",
              "    </tr>\n",
              "  </tbody>\n",
              "</table>\n",
              "</div>"
            ],
            "text/plain": [
              "   mean_fit_time  std_fit_time  mean_score_time  std_score_time param_C  \\\n",
              "0       0.025596      0.005659         0.003734        0.000510   0.001   \n",
              "1       0.015718      0.002906         0.003334        0.000178   0.001   \n",
              "2       0.021013      0.003318         0.003789        0.001412   0.001   \n",
              "3       0.015343      0.003048         0.003581        0.001379   0.001   \n",
              "4       0.028838      0.001632         0.003654        0.000247    0.05   \n",
              "\n",
              "  param_class_weight param_penalty param_solver  \\\n",
              "0           balanced            l2    liblinear   \n",
              "1           balanced            l1    liblinear   \n",
              "2               None            l2    liblinear   \n",
              "3               None            l1    liblinear   \n",
              "4           balanced            l2    liblinear   \n",
              "\n",
              "                                              params  split0_test_score  \\\n",
              "0  {'C': 0.001, 'class_weight': 'balanced', 'pena...           0.803092   \n",
              "1  {'C': 0.001, 'class_weight': 'balanced', 'pena...           0.704734   \n",
              "2  {'C': 0.001, 'class_weight': None, 'penalty': ...           0.794589   \n",
              "3  {'C': 0.001, 'class_weight': None, 'penalty': ...           0.500000   \n",
              "4  {'C': 0.05, 'class_weight': 'balanced', 'penal...           0.810113   \n",
              "\n",
              "   split1_test_score  split2_test_score  split3_test_score  split4_test_score  \\\n",
              "0           0.841739           0.841159           0.851367           0.770759   \n",
              "1           0.744960           0.744219           0.739653           0.713464   \n",
              "2           0.841610           0.830081           0.842041           0.769992   \n",
              "3           0.500000           0.500000           0.500000           0.500000   \n",
              "4           0.851014           0.860483           0.860692           0.784108   \n",
              "\n",
              "   split5_test_score  split6_test_score  split7_test_score  split8_test_score  \\\n",
              "0           0.869903           0.855987           0.854563           0.826537   \n",
              "1           0.757540           0.751424           0.749676           0.747152   \n",
              "2           0.858770           0.860518           0.848220           0.830162   \n",
              "3           0.500000           0.500000           0.500000           0.500000   \n",
              "4           0.879935           0.866796           0.860388           0.830291   \n",
              "\n",
              "   split9_test_score  split10_test_score  split11_test_score  \\\n",
              "0           0.850680            0.843042            0.827120   \n",
              "1           0.815631            0.735987            0.757638   \n",
              "2           0.840065            0.836052            0.821748   \n",
              "3           0.500000            0.500000            0.500000   \n",
              "4           0.872168            0.850097            0.821359   \n",
              "\n",
              "   split12_test_score  split13_test_score  split14_test_score  \\\n",
              "0            0.821618            0.866537            0.858770   \n",
              "1            0.752039            0.762362            0.741553   \n",
              "2            0.816440            0.855210            0.846602   \n",
              "3            0.500000            0.500000            0.500000   \n",
              "4            0.841812            0.875728            0.864531   \n",
              "\n",
              "   split15_test_score  split16_test_score  split17_test_score  \\\n",
              "0            0.805049            0.835275            0.827314   \n",
              "1            0.732654            0.747282            0.693786   \n",
              "2            0.794628            0.832751            0.821294   \n",
              "3            0.500000            0.500000            0.500000   \n",
              "4            0.814110            0.842460            0.845631   \n",
              "\n",
              "   split18_test_score  split19_test_score  mean_test_score  std_test_score  \\\n",
              "0            0.826602            0.874175         0.837564        0.024648   \n",
              "1            0.745534            0.738285         0.743779        0.023726   \n",
              "2            0.806990            0.870939         0.830935        0.024545   \n",
              "3            0.500000            0.500000         0.500000        0.000000   \n",
              "4            0.838900            0.878447         0.847453        0.024750   \n",
              "\n",
              "   rank_test_score  \n",
              "0               23  \n",
              "1               27  \n",
              "2               25  \n",
              "3               28  \n",
              "4               15  "
            ]
          },
          "metadata": {},
          "execution_count": 78
        }
      ]
    },
    {
      "cell_type": "code",
      "metadata": {
        "colab": {
          "base_uri": "https://localhost:8080/"
        },
        "id": "bZ38yzeHsoFt",
        "outputId": "864f129a-389e-407d-b89e-41127d674534"
      },
      "source": [
        "### 최적 모델을 이용하여 테스트 데이터 셋을 이용하여 예측 후 roc_auc값 결과 확인\n",
        "### ROC-AUC 계산을 위해 해당 label에 대한 확률값(probability)이 필요하므로 predict_proba메서드 활용\n",
        "y_pred_test_lr = grid_search.best_estimator_.predict_proba(x_test)[:, 1]\n",
        "print(f'test score: {roc_auc_score(y_test, y_pred_test_lr)}')  ## best model를 이용한 roc_auc_score결과"
      ],
      "execution_count": 79,
      "outputs": [
        {
          "output_type": "stream",
          "name": "stdout",
          "text": [
            "test score: 0.8246332005868793\n"
          ]
        }
      ]
    },
    {
      "cell_type": "code",
      "metadata": {
        "colab": {
          "base_uri": "https://localhost:8080/"
        },
        "id": "z899lGIxsoFu",
        "outputId": "1ec6fc5a-ca1d-4dd8-803f-c06ac0ae5e9d"
      },
      "source": [
        "### SVC 모델을 위한 최적 하이퍼 파라미터 추정(GSCV)\n",
        "svc = SVC(probability=True, gamma='scale')  ## ROC-AUC를 위해 SVC probability옵션 설정\n",
        "\n",
        "parameter_grid = {'C': [0.01, 0.1, 1.0, 10.0],\n",
        "                  'kernel': ['linear', 'poly', 'rbf'],\n",
        "                 }\n",
        "\n",
        "grid_search = GridSearchCV(svc, param_grid=parameter_grid, cv=folds, scoring='roc_auc', n_jobs=-1)\n",
        "grid_search.fit(x_train, y_train)\n",
        "print(f'Best score of GridSearchCV: {grid_search.best_score_}')\n",
        "print(f'Best parameters: {grid_search.best_params_}')"
      ],
      "execution_count": 80,
      "outputs": [
        {
          "output_type": "stream",
          "name": "stdout",
          "text": [
            "Best score of GridSearchCV: 0.8393338916330741\n",
            "Best parameters: {'C': 1.0, 'kernel': 'linear'}\n"
          ]
        }
      ]
    },
    {
      "cell_type": "code",
      "metadata": {
        "colab": {
          "base_uri": "https://localhost:8080/",
          "height": 445
        },
        "id": "RvcoMCNsyD2W",
        "outputId": "5a79146b-f423-444d-a33e-1228903b8d2d"
      },
      "source": [
        "pd.DataFrame(grid_search.cv_results_)[:5]"
      ],
      "execution_count": 81,
      "outputs": [
        {
          "output_type": "execute_result",
          "data": {
            "text/html": [
              "<div>\n",
              "<style scoped>\n",
              "    .dataframe tbody tr th:only-of-type {\n",
              "        vertical-align: middle;\n",
              "    }\n",
              "\n",
              "    .dataframe tbody tr th {\n",
              "        vertical-align: top;\n",
              "    }\n",
              "\n",
              "    .dataframe thead th {\n",
              "        text-align: right;\n",
              "    }\n",
              "</style>\n",
              "<table border=\"1\" class=\"dataframe\">\n",
              "  <thead>\n",
              "    <tr style=\"text-align: right;\">\n",
              "      <th></th>\n",
              "      <th>mean_fit_time</th>\n",
              "      <th>std_fit_time</th>\n",
              "      <th>mean_score_time</th>\n",
              "      <th>std_score_time</th>\n",
              "      <th>param_C</th>\n",
              "      <th>param_kernel</th>\n",
              "      <th>params</th>\n",
              "      <th>split0_test_score</th>\n",
              "      <th>split1_test_score</th>\n",
              "      <th>split2_test_score</th>\n",
              "      <th>split3_test_score</th>\n",
              "      <th>split4_test_score</th>\n",
              "      <th>split5_test_score</th>\n",
              "      <th>split6_test_score</th>\n",
              "      <th>split7_test_score</th>\n",
              "      <th>split8_test_score</th>\n",
              "      <th>split9_test_score</th>\n",
              "      <th>split10_test_score</th>\n",
              "      <th>split11_test_score</th>\n",
              "      <th>split12_test_score</th>\n",
              "      <th>split13_test_score</th>\n",
              "      <th>split14_test_score</th>\n",
              "      <th>split15_test_score</th>\n",
              "      <th>split16_test_score</th>\n",
              "      <th>split17_test_score</th>\n",
              "      <th>split18_test_score</th>\n",
              "      <th>split19_test_score</th>\n",
              "      <th>mean_test_score</th>\n",
              "      <th>std_test_score</th>\n",
              "      <th>rank_test_score</th>\n",
              "    </tr>\n",
              "  </thead>\n",
              "  <tbody>\n",
              "    <tr>\n",
              "      <th>0</th>\n",
              "      <td>6.019084</td>\n",
              "      <td>0.098780</td>\n",
              "      <td>0.037874</td>\n",
              "      <td>0.001105</td>\n",
              "      <td>0.01</td>\n",
              "      <td>linear</td>\n",
              "      <td>{'C': 0.01, 'kernel': 'linear'}</td>\n",
              "      <td>0.815266</td>\n",
              "      <td>0.843221</td>\n",
              "      <td>0.850113</td>\n",
              "      <td>0.850856</td>\n",
              "      <td>0.765457</td>\n",
              "      <td>0.874304</td>\n",
              "      <td>0.856570</td>\n",
              "      <td>0.847638</td>\n",
              "      <td>0.822913</td>\n",
              "      <td>0.869320</td>\n",
              "      <td>0.838770</td>\n",
              "      <td>0.812621</td>\n",
              "      <td>0.825437</td>\n",
              "      <td>0.871133</td>\n",
              "      <td>0.860259</td>\n",
              "      <td>0.804854</td>\n",
              "      <td>0.839029</td>\n",
              "      <td>0.839482</td>\n",
              "      <td>0.828867</td>\n",
              "      <td>0.870550</td>\n",
              "      <td>0.839333</td>\n",
              "      <td>0.026161</td>\n",
              "      <td>2</td>\n",
              "    </tr>\n",
              "    <tr>\n",
              "      <th>1</th>\n",
              "      <td>7.094319</td>\n",
              "      <td>0.042118</td>\n",
              "      <td>0.047812</td>\n",
              "      <td>0.003385</td>\n",
              "      <td>0.01</td>\n",
              "      <td>poly</td>\n",
              "      <td>{'C': 0.01, 'kernel': 'poly'}</td>\n",
              "      <td>0.796329</td>\n",
              "      <td>0.823253</td>\n",
              "      <td>0.846441</td>\n",
              "      <td>0.836357</td>\n",
              "      <td>0.736714</td>\n",
              "      <td>0.844595</td>\n",
              "      <td>0.849515</td>\n",
              "      <td>0.840259</td>\n",
              "      <td>0.795858</td>\n",
              "      <td>0.834628</td>\n",
              "      <td>0.827120</td>\n",
              "      <td>0.773981</td>\n",
              "      <td>0.797994</td>\n",
              "      <td>0.841100</td>\n",
              "      <td>0.841359</td>\n",
              "      <td>0.799288</td>\n",
              "      <td>0.815210</td>\n",
              "      <td>0.825502</td>\n",
              "      <td>0.785825</td>\n",
              "      <td>0.854951</td>\n",
              "      <td>0.818314</td>\n",
              "      <td>0.029603</td>\n",
              "      <td>6</td>\n",
              "    </tr>\n",
              "    <tr>\n",
              "      <th>2</th>\n",
              "      <td>9.715111</td>\n",
              "      <td>0.032591</td>\n",
              "      <td>0.077508</td>\n",
              "      <td>0.005326</td>\n",
              "      <td>0.01</td>\n",
              "      <td>rbf</td>\n",
              "      <td>{'C': 0.01, 'kernel': 'rbf'}</td>\n",
              "      <td>0.801224</td>\n",
              "      <td>0.834010</td>\n",
              "      <td>0.841932</td>\n",
              "      <td>0.848556</td>\n",
              "      <td>0.757218</td>\n",
              "      <td>0.864919</td>\n",
              "      <td>0.849773</td>\n",
              "      <td>0.828220</td>\n",
              "      <td>0.813528</td>\n",
              "      <td>0.848997</td>\n",
              "      <td>0.822201</td>\n",
              "      <td>0.790615</td>\n",
              "      <td>0.788932</td>\n",
              "      <td>0.858058</td>\n",
              "      <td>0.845049</td>\n",
              "      <td>0.798900</td>\n",
              "      <td>0.823236</td>\n",
              "      <td>0.827120</td>\n",
              "      <td>0.797735</td>\n",
              "      <td>0.860194</td>\n",
              "      <td>0.825021</td>\n",
              "      <td>0.027986</td>\n",
              "      <td>5</td>\n",
              "    </tr>\n",
              "    <tr>\n",
              "      <th>3</th>\n",
              "      <td>5.899014</td>\n",
              "      <td>0.039423</td>\n",
              "      <td>0.037007</td>\n",
              "      <td>0.003929</td>\n",
              "      <td>0.1</td>\n",
              "      <td>linear</td>\n",
              "      <td>{'C': 0.1, 'kernel': 'linear'}</td>\n",
              "      <td>0.813720</td>\n",
              "      <td>0.842705</td>\n",
              "      <td>0.852174</td>\n",
              "      <td>0.852644</td>\n",
              "      <td>0.765585</td>\n",
              "      <td>0.874628</td>\n",
              "      <td>0.858770</td>\n",
              "      <td>0.843689</td>\n",
              "      <td>0.823430</td>\n",
              "      <td>0.873528</td>\n",
              "      <td>0.834175</td>\n",
              "      <td>0.808932</td>\n",
              "      <td>0.827184</td>\n",
              "      <td>0.871068</td>\n",
              "      <td>0.856893</td>\n",
              "      <td>0.806537</td>\n",
              "      <td>0.837411</td>\n",
              "      <td>0.845631</td>\n",
              "      <td>0.825372</td>\n",
              "      <td>0.870227</td>\n",
              "      <td>0.839215</td>\n",
              "      <td>0.026641</td>\n",
              "      <td>4</td>\n",
              "    </tr>\n",
              "    <tr>\n",
              "      <th>4</th>\n",
              "      <td>6.842065</td>\n",
              "      <td>0.098516</td>\n",
              "      <td>0.041446</td>\n",
              "      <td>0.000701</td>\n",
              "      <td>0.1</td>\n",
              "      <td>poly</td>\n",
              "      <td>{'C': 0.1, 'kernel': 'poly'}</td>\n",
              "      <td>0.781965</td>\n",
              "      <td>0.821320</td>\n",
              "      <td>0.846763</td>\n",
              "      <td>0.835271</td>\n",
              "      <td>0.764755</td>\n",
              "      <td>0.838511</td>\n",
              "      <td>0.854239</td>\n",
              "      <td>0.825566</td>\n",
              "      <td>0.801683</td>\n",
              "      <td>0.840841</td>\n",
              "      <td>0.813398</td>\n",
              "      <td>0.761100</td>\n",
              "      <td>0.786084</td>\n",
              "      <td>0.824790</td>\n",
              "      <td>0.832751</td>\n",
              "      <td>0.793398</td>\n",
              "      <td>0.802718</td>\n",
              "      <td>0.833463</td>\n",
              "      <td>0.788479</td>\n",
              "      <td>0.854628</td>\n",
              "      <td>0.815086</td>\n",
              "      <td>0.027849</td>\n",
              "      <td>8</td>\n",
              "    </tr>\n",
              "  </tbody>\n",
              "</table>\n",
              "</div>"
            ],
            "text/plain": [
              "   mean_fit_time  std_fit_time  mean_score_time  std_score_time param_C  \\\n",
              "0       6.019084      0.098780         0.037874        0.001105    0.01   \n",
              "1       7.094319      0.042118         0.047812        0.003385    0.01   \n",
              "2       9.715111      0.032591         0.077508        0.005326    0.01   \n",
              "3       5.899014      0.039423         0.037007        0.003929     0.1   \n",
              "4       6.842065      0.098516         0.041446        0.000701     0.1   \n",
              "\n",
              "  param_kernel                           params  split0_test_score  \\\n",
              "0       linear  {'C': 0.01, 'kernel': 'linear'}           0.815266   \n",
              "1         poly    {'C': 0.01, 'kernel': 'poly'}           0.796329   \n",
              "2          rbf     {'C': 0.01, 'kernel': 'rbf'}           0.801224   \n",
              "3       linear   {'C': 0.1, 'kernel': 'linear'}           0.813720   \n",
              "4         poly     {'C': 0.1, 'kernel': 'poly'}           0.781965   \n",
              "\n",
              "   split1_test_score  split2_test_score  split3_test_score  split4_test_score  \\\n",
              "0           0.843221           0.850113           0.850856           0.765457   \n",
              "1           0.823253           0.846441           0.836357           0.736714   \n",
              "2           0.834010           0.841932           0.848556           0.757218   \n",
              "3           0.842705           0.852174           0.852644           0.765585   \n",
              "4           0.821320           0.846763           0.835271           0.764755   \n",
              "\n",
              "   split5_test_score  split6_test_score  split7_test_score  split8_test_score  \\\n",
              "0           0.874304           0.856570           0.847638           0.822913   \n",
              "1           0.844595           0.849515           0.840259           0.795858   \n",
              "2           0.864919           0.849773           0.828220           0.813528   \n",
              "3           0.874628           0.858770           0.843689           0.823430   \n",
              "4           0.838511           0.854239           0.825566           0.801683   \n",
              "\n",
              "   split9_test_score  split10_test_score  split11_test_score  \\\n",
              "0           0.869320            0.838770            0.812621   \n",
              "1           0.834628            0.827120            0.773981   \n",
              "2           0.848997            0.822201            0.790615   \n",
              "3           0.873528            0.834175            0.808932   \n",
              "4           0.840841            0.813398            0.761100   \n",
              "\n",
              "   split12_test_score  split13_test_score  split14_test_score  \\\n",
              "0            0.825437            0.871133            0.860259   \n",
              "1            0.797994            0.841100            0.841359   \n",
              "2            0.788932            0.858058            0.845049   \n",
              "3            0.827184            0.871068            0.856893   \n",
              "4            0.786084            0.824790            0.832751   \n",
              "\n",
              "   split15_test_score  split16_test_score  split17_test_score  \\\n",
              "0            0.804854            0.839029            0.839482   \n",
              "1            0.799288            0.815210            0.825502   \n",
              "2            0.798900            0.823236            0.827120   \n",
              "3            0.806537            0.837411            0.845631   \n",
              "4            0.793398            0.802718            0.833463   \n",
              "\n",
              "   split18_test_score  split19_test_score  mean_test_score  std_test_score  \\\n",
              "0            0.828867            0.870550         0.839333        0.026161   \n",
              "1            0.785825            0.854951         0.818314        0.029603   \n",
              "2            0.797735            0.860194         0.825021        0.027986   \n",
              "3            0.825372            0.870227         0.839215        0.026641   \n",
              "4            0.788479            0.854628         0.815086        0.027849   \n",
              "\n",
              "   rank_test_score  \n",
              "0                2  \n",
              "1                6  \n",
              "2                5  \n",
              "3                4  \n",
              "4                8  "
            ]
          },
          "metadata": {},
          "execution_count": 81
        }
      ]
    },
    {
      "cell_type": "code",
      "metadata": {
        "colab": {
          "base_uri": "https://localhost:8080/"
        },
        "id": "0LgRWc9byIjv",
        "outputId": "51a982d1-3a90-43cf-9131-881e74bee149"
      },
      "source": [
        "### 최적 모델을 이용하여 테스트 데이터 셋을 이용하여 예측 후 roc_auc값 결과 확인\n",
        "y_pred_test_svc= grid_search.best_estimator_.predict_proba(x_test)[:, 1]\n",
        "print(f'test score: {roc_auc_score(y_test, y_pred_test_svc)}')  ## best model를 이용한 roc_auc_score결과"
      ],
      "execution_count": 82,
      "outputs": [
        {
          "output_type": "stream",
          "name": "stdout",
          "text": [
            "test score: 0.8098538042339132\n"
          ]
        }
      ]
    },
    {
      "cell_type": "code",
      "metadata": {
        "colab": {
          "base_uri": "https://localhost:8080/"
        },
        "id": "4fVmDrf-yRqP",
        "outputId": "0c4384e0-cedc-4ed8-b477-d83caaf4cb3e"
      },
      "source": [
        "### RandomForestClassifier 모델을 위한 최적 하이퍼 파라미터 추정(GSCV)\n",
        "rfc = RandomForestClassifier()\n",
        "parameter_grid = {\n",
        "    'n_estimators' : [100,200,300], \n",
        "    'max_features' : [2,4,6,8],\n",
        "    'criterion' : ['gini', 'entropy'], \n",
        "    'max_depth' : [6,8,10, 16, 20]\n",
        "}\n",
        "\n",
        "grid_search = GridSearchCV(rfc, param_grid=parameter_grid, cv=folds, scoring='roc_auc', n_jobs=-1)\n",
        "grid_search.fit(x_train, y_train)\n",
        "print(f'Best score of GridSearchCV: {grid_search.best_score_}')\n",
        "print(f'Best parameters: {grid_search.best_params_}')"
      ],
      "execution_count": 83,
      "outputs": [
        {
          "output_type": "stream",
          "name": "stdout",
          "text": [
            "Best score of GridSearchCV: 0.8499261075687672\n",
            "Best parameters: {'criterion': 'gini', 'max_depth': 8, 'max_features': 6, 'n_estimators': 200}\n"
          ]
        }
      ]
    },
    {
      "cell_type": "code",
      "metadata": {
        "colab": {
          "base_uri": "https://localhost:8080/",
          "height": 564
        },
        "id": "TA0Uz4K0zyO5",
        "outputId": "75f44de1-5cc3-4db8-afc4-7c31699a41c9"
      },
      "source": [
        "pd.DataFrame(grid_search.cv_results_)[:5]"
      ],
      "execution_count": 84,
      "outputs": [
        {
          "output_type": "execute_result",
          "data": {
            "text/html": [
              "<div>\n",
              "<style scoped>\n",
              "    .dataframe tbody tr th:only-of-type {\n",
              "        vertical-align: middle;\n",
              "    }\n",
              "\n",
              "    .dataframe tbody tr th {\n",
              "        vertical-align: top;\n",
              "    }\n",
              "\n",
              "    .dataframe thead th {\n",
              "        text-align: right;\n",
              "    }\n",
              "</style>\n",
              "<table border=\"1\" class=\"dataframe\">\n",
              "  <thead>\n",
              "    <tr style=\"text-align: right;\">\n",
              "      <th></th>\n",
              "      <th>mean_fit_time</th>\n",
              "      <th>std_fit_time</th>\n",
              "      <th>mean_score_time</th>\n",
              "      <th>std_score_time</th>\n",
              "      <th>param_criterion</th>\n",
              "      <th>param_max_depth</th>\n",
              "      <th>param_max_features</th>\n",
              "      <th>param_n_estimators</th>\n",
              "      <th>params</th>\n",
              "      <th>split0_test_score</th>\n",
              "      <th>split1_test_score</th>\n",
              "      <th>split2_test_score</th>\n",
              "      <th>split3_test_score</th>\n",
              "      <th>split4_test_score</th>\n",
              "      <th>split5_test_score</th>\n",
              "      <th>split6_test_score</th>\n",
              "      <th>split7_test_score</th>\n",
              "      <th>split8_test_score</th>\n",
              "      <th>split9_test_score</th>\n",
              "      <th>split10_test_score</th>\n",
              "      <th>split11_test_score</th>\n",
              "      <th>split12_test_score</th>\n",
              "      <th>split13_test_score</th>\n",
              "      <th>split14_test_score</th>\n",
              "      <th>split15_test_score</th>\n",
              "      <th>split16_test_score</th>\n",
              "      <th>split17_test_score</th>\n",
              "      <th>split18_test_score</th>\n",
              "      <th>split19_test_score</th>\n",
              "      <th>mean_test_score</th>\n",
              "      <th>std_test_score</th>\n",
              "      <th>rank_test_score</th>\n",
              "    </tr>\n",
              "  </thead>\n",
              "  <tbody>\n",
              "    <tr>\n",
              "      <th>0</th>\n",
              "      <td>0.462264</td>\n",
              "      <td>0.010200</td>\n",
              "      <td>0.024293</td>\n",
              "      <td>0.002906</td>\n",
              "      <td>gini</td>\n",
              "      <td>6</td>\n",
              "      <td>2</td>\n",
              "      <td>100</td>\n",
              "      <td>{'criterion': 'gini', 'max_depth': 6, 'max_fea...</td>\n",
              "      <td>0.814750</td>\n",
              "      <td>0.848663</td>\n",
              "      <td>0.844638</td>\n",
              "      <td>0.865355</td>\n",
              "      <td>0.784044</td>\n",
              "      <td>0.873463</td>\n",
              "      <td>0.878770</td>\n",
              "      <td>0.864725</td>\n",
              "      <td>0.838252</td>\n",
              "      <td>0.862071</td>\n",
              "      <td>0.849061</td>\n",
              "      <td>0.827346</td>\n",
              "      <td>0.828026</td>\n",
              "      <td>0.869838</td>\n",
              "      <td>0.854563</td>\n",
              "      <td>0.790032</td>\n",
              "      <td>0.843333</td>\n",
              "      <td>0.857055</td>\n",
              "      <td>0.825793</td>\n",
              "      <td>0.876828</td>\n",
              "      <td>0.844830</td>\n",
              "      <td>0.026087</td>\n",
              "      <td>66</td>\n",
              "    </tr>\n",
              "    <tr>\n",
              "      <th>1</th>\n",
              "      <td>0.903722</td>\n",
              "      <td>0.009818</td>\n",
              "      <td>0.041601</td>\n",
              "      <td>0.001829</td>\n",
              "      <td>gini</td>\n",
              "      <td>6</td>\n",
              "      <td>2</td>\n",
              "      <td>200</td>\n",
              "      <td>{'criterion': 'gini', 'max_depth': 6, 'max_fea...</td>\n",
              "      <td>0.812045</td>\n",
              "      <td>0.854396</td>\n",
              "      <td>0.845604</td>\n",
              "      <td>0.867080</td>\n",
              "      <td>0.784875</td>\n",
              "      <td>0.871521</td>\n",
              "      <td>0.878447</td>\n",
              "      <td>0.866667</td>\n",
              "      <td>0.837735</td>\n",
              "      <td>0.855793</td>\n",
              "      <td>0.850032</td>\n",
              "      <td>0.826667</td>\n",
              "      <td>0.832039</td>\n",
              "      <td>0.873981</td>\n",
              "      <td>0.850032</td>\n",
              "      <td>0.792362</td>\n",
              "      <td>0.843883</td>\n",
              "      <td>0.856505</td>\n",
              "      <td>0.819806</td>\n",
              "      <td>0.875210</td>\n",
              "      <td>0.844734</td>\n",
              "      <td>0.026060</td>\n",
              "      <td>67</td>\n",
              "    </tr>\n",
              "    <tr>\n",
              "      <th>2</th>\n",
              "      <td>1.358856</td>\n",
              "      <td>0.011350</td>\n",
              "      <td>0.060288</td>\n",
              "      <td>0.003219</td>\n",
              "      <td>gini</td>\n",
              "      <td>6</td>\n",
              "      <td>2</td>\n",
              "      <td>300</td>\n",
              "      <td>{'criterion': 'gini', 'max_depth': 6, 'max_fea...</td>\n",
              "      <td>0.810886</td>\n",
              "      <td>0.853366</td>\n",
              "      <td>0.845926</td>\n",
              "      <td>0.872317</td>\n",
              "      <td>0.783725</td>\n",
              "      <td>0.875469</td>\n",
              "      <td>0.878900</td>\n",
              "      <td>0.865696</td>\n",
              "      <td>0.838835</td>\n",
              "      <td>0.855081</td>\n",
              "      <td>0.848608</td>\n",
              "      <td>0.826019</td>\n",
              "      <td>0.826278</td>\n",
              "      <td>0.872168</td>\n",
              "      <td>0.852816</td>\n",
              "      <td>0.790550</td>\n",
              "      <td>0.841748</td>\n",
              "      <td>0.853528</td>\n",
              "      <td>0.822913</td>\n",
              "      <td>0.877217</td>\n",
              "      <td>0.844602</td>\n",
              "      <td>0.026902</td>\n",
              "      <td>68</td>\n",
              "    </tr>\n",
              "    <tr>\n",
              "      <th>3</th>\n",
              "      <td>0.550721</td>\n",
              "      <td>0.012035</td>\n",
              "      <td>0.021384</td>\n",
              "      <td>0.000718</td>\n",
              "      <td>gini</td>\n",
              "      <td>6</td>\n",
              "      <td>4</td>\n",
              "      <td>100</td>\n",
              "      <td>{'criterion': 'gini', 'max_depth': 6, 'max_fea...</td>\n",
              "      <td>0.810564</td>\n",
              "      <td>0.859291</td>\n",
              "      <td>0.847601</td>\n",
              "      <td>0.868102</td>\n",
              "      <td>0.788196</td>\n",
              "      <td>0.878641</td>\n",
              "      <td>0.877670</td>\n",
              "      <td>0.867314</td>\n",
              "      <td>0.842977</td>\n",
              "      <td>0.866667</td>\n",
              "      <td>0.850809</td>\n",
              "      <td>0.825113</td>\n",
              "      <td>0.833981</td>\n",
              "      <td>0.873269</td>\n",
              "      <td>0.858835</td>\n",
              "      <td>0.792880</td>\n",
              "      <td>0.844919</td>\n",
              "      <td>0.859061</td>\n",
              "      <td>0.826602</td>\n",
              "      <td>0.873139</td>\n",
              "      <td>0.847282</td>\n",
              "      <td>0.026277</td>\n",
              "      <td>45</td>\n",
              "    </tr>\n",
              "    <tr>\n",
              "      <th>4</th>\n",
              "      <td>1.086942</td>\n",
              "      <td>0.010929</td>\n",
              "      <td>0.039638</td>\n",
              "      <td>0.002814</td>\n",
              "      <td>gini</td>\n",
              "      <td>6</td>\n",
              "      <td>4</td>\n",
              "      <td>200</td>\n",
              "      <td>{'criterion': 'gini', 'max_depth': 6, 'max_fea...</td>\n",
              "      <td>0.817456</td>\n",
              "      <td>0.853816</td>\n",
              "      <td>0.849823</td>\n",
              "      <td>0.868613</td>\n",
              "      <td>0.791518</td>\n",
              "      <td>0.880388</td>\n",
              "      <td>0.876699</td>\n",
              "      <td>0.867832</td>\n",
              "      <td>0.846731</td>\n",
              "      <td>0.869256</td>\n",
              "      <td>0.848220</td>\n",
              "      <td>0.828220</td>\n",
              "      <td>0.831456</td>\n",
              "      <td>0.876828</td>\n",
              "      <td>0.855793</td>\n",
              "      <td>0.798706</td>\n",
              "      <td>0.843754</td>\n",
              "      <td>0.856181</td>\n",
              "      <td>0.827540</td>\n",
              "      <td>0.870744</td>\n",
              "      <td>0.847979</td>\n",
              "      <td>0.024811</td>\n",
              "      <td>33</td>\n",
              "    </tr>\n",
              "  </tbody>\n",
              "</table>\n",
              "</div>"
            ],
            "text/plain": [
              "   mean_fit_time  std_fit_time  mean_score_time  std_score_time  \\\n",
              "0       0.462264      0.010200         0.024293        0.002906   \n",
              "1       0.903722      0.009818         0.041601        0.001829   \n",
              "2       1.358856      0.011350         0.060288        0.003219   \n",
              "3       0.550721      0.012035         0.021384        0.000718   \n",
              "4       1.086942      0.010929         0.039638        0.002814   \n",
              "\n",
              "  param_criterion param_max_depth param_max_features param_n_estimators  \\\n",
              "0            gini               6                  2                100   \n",
              "1            gini               6                  2                200   \n",
              "2            gini               6                  2                300   \n",
              "3            gini               6                  4                100   \n",
              "4            gini               6                  4                200   \n",
              "\n",
              "                                              params  split0_test_score  \\\n",
              "0  {'criterion': 'gini', 'max_depth': 6, 'max_fea...           0.814750   \n",
              "1  {'criterion': 'gini', 'max_depth': 6, 'max_fea...           0.812045   \n",
              "2  {'criterion': 'gini', 'max_depth': 6, 'max_fea...           0.810886   \n",
              "3  {'criterion': 'gini', 'max_depth': 6, 'max_fea...           0.810564   \n",
              "4  {'criterion': 'gini', 'max_depth': 6, 'max_fea...           0.817456   \n",
              "\n",
              "   split1_test_score  split2_test_score  split3_test_score  split4_test_score  \\\n",
              "0           0.848663           0.844638           0.865355           0.784044   \n",
              "1           0.854396           0.845604           0.867080           0.784875   \n",
              "2           0.853366           0.845926           0.872317           0.783725   \n",
              "3           0.859291           0.847601           0.868102           0.788196   \n",
              "4           0.853816           0.849823           0.868613           0.791518   \n",
              "\n",
              "   split5_test_score  split6_test_score  split7_test_score  split8_test_score  \\\n",
              "0           0.873463           0.878770           0.864725           0.838252   \n",
              "1           0.871521           0.878447           0.866667           0.837735   \n",
              "2           0.875469           0.878900           0.865696           0.838835   \n",
              "3           0.878641           0.877670           0.867314           0.842977   \n",
              "4           0.880388           0.876699           0.867832           0.846731   \n",
              "\n",
              "   split9_test_score  split10_test_score  split11_test_score  \\\n",
              "0           0.862071            0.849061            0.827346   \n",
              "1           0.855793            0.850032            0.826667   \n",
              "2           0.855081            0.848608            0.826019   \n",
              "3           0.866667            0.850809            0.825113   \n",
              "4           0.869256            0.848220            0.828220   \n",
              "\n",
              "   split12_test_score  split13_test_score  split14_test_score  \\\n",
              "0            0.828026            0.869838            0.854563   \n",
              "1            0.832039            0.873981            0.850032   \n",
              "2            0.826278            0.872168            0.852816   \n",
              "3            0.833981            0.873269            0.858835   \n",
              "4            0.831456            0.876828            0.855793   \n",
              "\n",
              "   split15_test_score  split16_test_score  split17_test_score  \\\n",
              "0            0.790032            0.843333            0.857055   \n",
              "1            0.792362            0.843883            0.856505   \n",
              "2            0.790550            0.841748            0.853528   \n",
              "3            0.792880            0.844919            0.859061   \n",
              "4            0.798706            0.843754            0.856181   \n",
              "\n",
              "   split18_test_score  split19_test_score  mean_test_score  std_test_score  \\\n",
              "0            0.825793            0.876828         0.844830        0.026087   \n",
              "1            0.819806            0.875210         0.844734        0.026060   \n",
              "2            0.822913            0.877217         0.844602        0.026902   \n",
              "3            0.826602            0.873139         0.847282        0.026277   \n",
              "4            0.827540            0.870744         0.847979        0.024811   \n",
              "\n",
              "   rank_test_score  \n",
              "0               66  \n",
              "1               67  \n",
              "2               68  \n",
              "3               45  \n",
              "4               33  "
            ]
          },
          "metadata": {},
          "execution_count": 84
        }
      ]
    },
    {
      "cell_type": "code",
      "metadata": {
        "colab": {
          "base_uri": "https://localhost:8080/"
        },
        "id": "-hQT1TZa-m1F",
        "outputId": "dbd093a9-58f3-47b5-efc5-6ab0e1ab6a15"
      },
      "source": [
        "### 최적 모델을 이용하여 테스트 데이터 셋을 이용하여 예측 후 roc_auc값 결과 확인\n",
        "y_pred_test_rfc= grid_search.best_estimator_.predict_proba(x_test)[:, 1]\n",
        "print(f'test score: {roc_auc_score(y_test, y_pred_test_rfc)}')  ## best model를 이용한 roc_auc_score결과"
      ],
      "execution_count": 85,
      "outputs": [
        {
          "output_type": "stream",
          "name": "stdout",
          "text": [
            "test score: 0.8244773108363027\n"
          ]
        }
      ]
    },
    {
      "cell_type": "markdown",
      "metadata": {
        "id": "dQuX_zyuO5dO"
      },
      "source": [
        "### 모델의 성능을 더 최적화 하기 위해 Feature Extraction, Selection, 더 좋은 모델을 선택, stacking 앙상블 모델 구현 등을 고려해 볼 수 있음"
      ]
    },
    {
      "cell_type": "markdown",
      "metadata": {
        "id": "Ou5u1nigO5dO"
      },
      "source": [
        "## [별도] Optuna를 활용한 하이퍼 파라미터 튜닝"
      ]
    },
    {
      "cell_type": "markdown",
      "metadata": {
        "id": "iOVNMLeFO5dO"
      },
      "source": [
        "### XGboost Classifier를 이용하여 위 진행한 학습모델링 수행"
      ]
    },
    {
      "cell_type": "code",
      "metadata": {
        "colab": {
          "base_uri": "https://localhost:8080/"
        },
        "id": "yvHIlTzGoo9P",
        "outputId": "f15d037f-93ed-433f-942e-db37f6949040"
      },
      "source": [
        "!pip install optuna"
      ],
      "execution_count": 291,
      "outputs": [
        {
          "output_type": "stream",
          "name": "stdout",
          "text": [
            "Collecting optuna\n",
            "  Downloading optuna-2.9.1-py3-none-any.whl (302 kB)\n",
            "\u001b[K     |████████████████████████████████| 302 kB 5.1 MB/s \n",
            "\u001b[?25hCollecting alembic\n",
            "  Downloading alembic-1.7.1-py3-none-any.whl (208 kB)\n",
            "\u001b[K     |████████████████████████████████| 208 kB 57.7 MB/s \n",
            "\u001b[?25hRequirement already satisfied: packaging>=20.0 in /usr/local/lib/python3.7/dist-packages (from optuna) (21.0)\n",
            "Requirement already satisfied: sqlalchemy>=1.1.0 in /usr/local/lib/python3.7/dist-packages (from optuna) (1.4.22)\n",
            "Requirement already satisfied: tqdm in /usr/local/lib/python3.7/dist-packages (from optuna) (4.62.0)\n",
            "Collecting colorlog\n",
            "  Downloading colorlog-6.4.1-py2.py3-none-any.whl (11 kB)\n",
            "Collecting cliff\n",
            "  Downloading cliff-3.9.0-py3-none-any.whl (80 kB)\n",
            "\u001b[K     |████████████████████████████████| 80 kB 8.6 MB/s \n",
            "\u001b[?25hRequirement already satisfied: scipy!=1.4.0 in /usr/local/lib/python3.7/dist-packages (from optuna) (1.4.1)\n",
            "Requirement already satisfied: PyYAML in /usr/local/lib/python3.7/dist-packages (from optuna) (3.13)\n",
            "Collecting cmaes>=0.8.2\n",
            "  Downloading cmaes-0.8.2-py3-none-any.whl (15 kB)\n",
            "Requirement already satisfied: numpy in /usr/local/lib/python3.7/dist-packages (from optuna) (1.19.5)\n",
            "Requirement already satisfied: pyparsing>=2.0.2 in /usr/local/lib/python3.7/dist-packages (from packaging>=20.0->optuna) (2.4.7)\n",
            "Requirement already satisfied: importlib-metadata in /usr/local/lib/python3.7/dist-packages (from sqlalchemy>=1.1.0->optuna) (4.6.4)\n",
            "Requirement already satisfied: greenlet!=0.4.17 in /usr/local/lib/python3.7/dist-packages (from sqlalchemy>=1.1.0->optuna) (1.1.1)\n",
            "Requirement already satisfied: importlib-resources in /usr/local/lib/python3.7/dist-packages (from alembic->optuna) (5.2.2)\n",
            "Collecting Mako\n",
            "  Downloading Mako-1.1.5-py2.py3-none-any.whl (75 kB)\n",
            "\u001b[K     |████████████████████████████████| 75 kB 4.2 MB/s \n",
            "\u001b[?25hCollecting pbr!=2.1.0,>=2.0.0\n",
            "  Downloading pbr-5.6.0-py2.py3-none-any.whl (111 kB)\n",
            "\u001b[K     |████████████████████████████████| 111 kB 61.2 MB/s \n",
            "\u001b[?25hRequirement already satisfied: PrettyTable>=0.7.2 in /usr/local/lib/python3.7/dist-packages (from cliff->optuna) (2.1.0)\n",
            "Collecting autopage>=0.4.0\n",
            "  Downloading autopage-0.4.0-py3-none-any.whl (20 kB)\n",
            "Collecting stevedore>=2.0.1\n",
            "  Downloading stevedore-3.4.0-py3-none-any.whl (49 kB)\n",
            "\u001b[K     |████████████████████████████████| 49 kB 5.5 MB/s \n",
            "\u001b[?25hCollecting cmd2>=1.0.0\n",
            "  Downloading cmd2-2.1.2-py3-none-any.whl (141 kB)\n",
            "\u001b[K     |████████████████████████████████| 141 kB 60.0 MB/s \n",
            "\u001b[?25hCollecting pyperclip>=1.6\n",
            "  Downloading pyperclip-1.8.2.tar.gz (20 kB)\n",
            "Requirement already satisfied: wcwidth>=0.1.7 in /usr/local/lib/python3.7/dist-packages (from cmd2>=1.0.0->cliff->optuna) (0.2.5)\n",
            "Requirement already satisfied: typing-extensions in /usr/local/lib/python3.7/dist-packages (from cmd2>=1.0.0->cliff->optuna) (3.7.4.3)\n",
            "Collecting colorama>=0.3.7\n",
            "  Downloading colorama-0.4.4-py2.py3-none-any.whl (16 kB)\n",
            "Requirement already satisfied: attrs>=16.3.0 in /usr/local/lib/python3.7/dist-packages (from cmd2>=1.0.0->cliff->optuna) (21.2.0)\n",
            "Requirement already satisfied: zipp>=0.5 in /usr/local/lib/python3.7/dist-packages (from importlib-metadata->sqlalchemy>=1.1.0->optuna) (3.5.0)\n",
            "Requirement already satisfied: MarkupSafe>=0.9.2 in /usr/local/lib/python3.7/dist-packages (from Mako->alembic->optuna) (2.0.1)\n",
            "Building wheels for collected packages: pyperclip\n",
            "  Building wheel for pyperclip (setup.py) ... \u001b[?25l\u001b[?25hdone\n",
            "  Created wheel for pyperclip: filename=pyperclip-1.8.2-py3-none-any.whl size=11136 sha256=4e787ce2deaa8bf88c91fa550362c1feddcf404c44c3e9e7cee58e10a2127cef\n",
            "  Stored in directory: /root/.cache/pip/wheels/9f/18/84/8f69f8b08169c7bae2dde6bd7daf0c19fca8c8e500ee620a28\n",
            "Successfully built pyperclip\n",
            "Installing collected packages: pyperclip, pbr, colorama, stevedore, Mako, cmd2, autopage, colorlog, cmaes, cliff, alembic, optuna\n",
            "Successfully installed Mako-1.1.5 alembic-1.7.1 autopage-0.4.0 cliff-3.9.0 cmaes-0.8.2 cmd2-2.1.2 colorama-0.4.4 colorlog-6.4.1 optuna-2.9.1 pbr-5.6.0 pyperclip-1.8.2 stevedore-3.4.0\n"
          ]
        }
      ]
    },
    {
      "cell_type": "code",
      "metadata": {
        "id": "ON2VHIv0O5dO"
      },
      "source": [
        "# 필요한 모듈 임포트\n",
        "import xgboost\n",
        "from xgboost import XGBClassifier\n",
        "from sklearn.metrics import log_loss, roc_auc_score"
      ],
      "execution_count": 292,
      "outputs": []
    },
    {
      "cell_type": "code",
      "metadata": {
        "id": "0QdZ5NkAlY39"
      },
      "source": [
        "import optuna\n",
        "from optuna import Trial\n",
        "from optuna.samplers import TPESampler"
      ],
      "execution_count": 293,
      "outputs": []
    },
    {
      "cell_type": "code",
      "metadata": {
        "id": "36D0SBH7p0Ge"
      },
      "source": [
        "def objective(trial: Trial) -> float:\n",
        "    params_xgb = {\n",
        "        \"random_state\": 42,\n",
        "        \"learning_rate\": trial.suggest_categorical(\"learning_rate\", [0.01, 0.05, 0.1]),\n",
        "        \"n_estimators\": trial.suggest_categorical(\"n_estimators\", [100, 300, 500, 1000]),\n",
        "        \"reg_alpha\": trial.suggest_float(\"reg_alpha\", 1e-8, 3e-5),\n",
        "        \"reg_lambda\": trial.suggest_float(\"reg_lambda\", 1e-8, 9e-2),\n",
        "        \"max_depth\": trial.suggest_int(\"max_depth\", 6, 10),\n",
        "        \"num_leaves\": trial.suggest_int(\"num_leaves\", 2, 256),\n",
        "        \"colsample_bytree\": trial.suggest_float(\"colsample_bytree\", 0.4, 1.0),\n",
        "        \"subsample\": trial.suggest_float(\"subsample\", 0.3, 1.0),\n",
        "        \"subsample_freq\": trial.suggest_int(\"subsample_freq\", 1, 10),\n",
        "        \"min_child_samples\": trial.suggest_int(\"min_child_samples\", 5, 100),\n",
        "        \"scale_pos_weight\" : trial.suggest_int(\"scale_pos_weight\", 1, 3)\n",
        "    }\n",
        "    \n",
        "    x_train_1, x_val_1, y_train_1, y_val_1 = train_test_split(x_train, y_train, test_size=0.2)\n",
        "\n",
        "    model = XGBClassifier(**params_xgb)\n",
        "    model.fit(\n",
        "        x_train_1,\n",
        "        y_train_1,\n",
        "        eval_set=[(x_train_1, y_train_1), (x_val_1, y_val_1)],\n",
        "        early_stopping_rounds=20,\n",
        "        verbose=False,\n",
        "    )\n",
        "\n",
        "    xgb_pred = model.predict_proba(x_val_1)[:, 1]\n",
        "    roc_auc_sc = roc_auc_score(y_val_1, xgb_pred)\n",
        "    \n",
        "    return roc_auc_sc"
      ],
      "execution_count": 311,
      "outputs": []
    },
    {
      "cell_type": "code",
      "metadata": {
        "colab": {
          "base_uri": "https://localhost:8080/"
        },
        "id": "VKh6rIRErzFQ",
        "outputId": "0a21bb5b-cbfe-4de2-c761-c9fa1326ec82"
      },
      "source": [
        "sampler = TPESampler(seed=42) ## 정의 된 하이퍼파라미터 변수 공간 샘플링 시 TPESampler를 사용\n",
        "study = optuna.create_study(\n",
        "    study_name=\"xgb_parameter_opt\",\n",
        "    direction=\"maximize\",  ## roc_auc를 metric으로 하였으므로, maximize로 설정..\n",
        "    sampler=sampler,   \n",
        ")\n",
        "study.optimize(objective, n_trials=50)\n",
        "print(\"Best Score:\", study.best_value)\n",
        "print(\"Best trial:\", study.best_trial.params)"
      ],
      "execution_count": 312,
      "outputs": [
        {
          "output_type": "stream",
          "name": "stderr",
          "text": [
            "\u001b[32m[I 2021-08-31 05:53:43,209]\u001b[0m A new study created in memory with name: xgb_parameter_opt\u001b[0m\n",
            "\u001b[32m[I 2021-08-31 05:53:44,366]\u001b[0m Trial 0 finished with value: 0.8128808080808081 and parameters: {'learning_rate': 0.05, 'n_estimators': 100, 'reg_alpha': 2.598662261179031e-05, 'reg_lambda': 0.05410035504573868, 'max_depth': 14, 'num_leaves': 7, 'colsample_bytree': 0.9819459112971965, 'subsample': 0.8827098485602951, 'subsample_freq': 3, 'min_child_samples': 22, 'scale_pos_weight': 1}. Best is trial 0 with value: 0.8128808080808081.\u001b[0m\n",
            "\u001b[32m[I 2021-08-31 05:53:45,596]\u001b[0m Trial 1 finished with value: 0.8266396200277063 and parameters: {'learning_rate': 0.05, 'n_estimators': 300, 'reg_alpha': 1.0997191680377813e-05, 'reg_lambda': 0.04104630401883339, 'max_depth': 15, 'num_leaves': 52, 'colsample_bytree': 0.708540663048167, 'subsample': 0.7146901982034297, 'subsample_freq': 1, 'min_child_samples': 63, 'scale_pos_weight': 1}. Best is trial 1 with value: 0.8266396200277063.\u001b[0m\n",
            "\u001b[32m[I 2021-08-31 05:53:46,548]\u001b[0m Trial 2 finished with value: 0.8292662210255408 and parameters: {'learning_rate': 0.1, 'n_estimators': 100, 'reg_alpha': 1.3210173287250643e-05, 'reg_lambda': 0.010983449915647746, 'max_depth': 12, 'num_leaves': 10, 'colsample_bytree': 0.9455922412472693, 'subsample': 0.48114598712001183, 'subsample_freq': 7, 'min_child_samples': 34, 'scale_pos_weight': 2}. Best is trial 2 with value: 0.8292662210255408.\u001b[0m\n",
            "\u001b[32m[I 2021-08-31 05:53:47,095]\u001b[0m Trial 3 finished with value: 0.8337639132755275 and parameters: {'learning_rate': 0.1, 'n_estimators': 300, 'reg_alpha': 2.7657008308343274e-05, 'reg_lambda': 0.007964334299747734, 'max_depth': 9, 'num_leaves': 13, 'colsample_bytree': 0.5951981984579586, 'subsample': 0.5720741027826374, 'subsample_freq': 3, 'min_child_samples': 84, 'scale_pos_weight': 2}. Best is trial 3 with value: 0.8337639132755275.\u001b[0m\n",
            "\u001b[32m[I 2021-08-31 05:53:48,238]\u001b[0m Trial 4 finished with value: 0.8094600550506017 and parameters: {'learning_rate': 0.05, 'n_estimators': 500, 'reg_alpha': 5.96948328920983e-06, 'reg_lambda': 0.0004970004859030447, 'max_depth': 15, 'num_leaves': 182, 'colsample_bytree': 0.8374043008245924, 'subsample': 0.8398892426801621, 'subsample_freq': 1, 'min_child_samples': 39, 'scale_pos_weight': 1}. Best is trial 3 with value: 0.8337639132755275.\u001b[0m\n",
            "\u001b[32m[I 2021-08-31 05:53:49,188]\u001b[0m Trial 5 finished with value: 0.8220798432641666 and parameters: {'learning_rate': 0.01, 'n_estimators': 1000, 'reg_alpha': 1.913034856594284e-05, 'reg_lambda': 0.07984914795974196, 'max_depth': 12, 'num_leaves': 32, 'colsample_bytree': 0.827946872333797, 'subsample': 0.8325495340318281, 'subsample_freq': 6, 'min_child_samples': 79, 'scale_pos_weight': 2}. Best is trial 3 with value: 0.8337639132755275.\u001b[0m\n",
            "\u001b[32m[I 2021-08-31 05:53:50,043]\u001b[0m Trial 6 finished with value: 0.8504498449229474 and parameters: {'learning_rate': 0.01, 'n_estimators': 500, 'reg_alpha': 1.5262035028029438e-05, 'reg_lambda': 0.08168098357768364, 'max_depth': 10, 'num_leaves': 106, 'colsample_bytree': 0.8533306831258292, 'subsample': 0.4601587158441357, 'subsample_freq': 1, 'min_child_samples': 32, 'scale_pos_weight': 1}. Best is trial 6 with value: 0.8504498449229474.\u001b[0m\n",
            "\u001b[32m[I 2021-08-31 05:53:52,171]\u001b[0m Trial 7 finished with value: 0.8401344361489289 and parameters: {'learning_rate': 0.01, 'n_estimators': 1000, 'reg_alpha': 1.6184873835050366e-05, 'reg_lambda': 0.07266961589036407, 'max_depth': 16, 'num_leaves': 83, 'colsample_bytree': 0.46603115471660606, 'subsample': 0.45955461377935913, 'subsample_freq': 5, 'min_child_samples': 83, 'scale_pos_weight': 3}. Best is trial 6 with value: 0.8504498449229474.\u001b[0m\n",
            "\u001b[32m[I 2021-08-31 05:53:53,129]\u001b[0m Trial 8 finished with value: 0.7963888591895648 and parameters: {'learning_rate': 0.05, 'n_estimators': 1000, 'reg_alpha': 9.70285593130245e-06, 'reg_lambda': 0.04669116076899674, 'max_depth': 14, 'num_leaves': 94, 'colsample_bytree': 0.9830692496325764, 'subsample': 0.9737131064594777, 'subsample_freq': 3, 'min_child_samples': 52, 'scale_pos_weight': 1}. Best is trial 6 with value: 0.8504498449229474.\u001b[0m\n",
            "\u001b[32m[I 2021-08-31 05:53:54,180]\u001b[0m Trial 9 finished with value: 0.8230061373645252 and parameters: {'learning_rate': 0.1, 'n_estimators': 1000, 'reg_alpha': 7.1944611011025026e-06, 'reg_lambda': 0.013040547039261358, 'max_depth': 12, 'num_leaves': 253, 'colsample_bytree': 0.5452331629069003, 'subsample': 0.770494883184115, 'subsample_freq': 8, 'min_child_samples': 27, 'scale_pos_weight': 3}. Best is trial 6 with value: 0.8504498449229474.\u001b[0m\n",
            "\u001b[32m[I 2021-08-31 05:53:54,756]\u001b[0m Trial 10 finished with value: 0.8436475094544366 and parameters: {'learning_rate': 0.01, 'n_estimators': 500, 'reg_alpha': 2.3634410629563173e-07, 'reg_lambda': 0.08594550712993865, 'max_depth': 8, 'num_leaves': 153, 'colsample_bytree': 0.7313172708011131, 'subsample': 0.3098855697841736, 'subsample_freq': 10, 'min_child_samples': 6, 'scale_pos_weight': 1}. Best is trial 6 with value: 0.8504498449229474.\u001b[0m\n",
            "\u001b[32m[I 2021-08-31 05:53:55,373]\u001b[0m Trial 11 finished with value: 0.8628882688772054 and parameters: {'learning_rate': 0.01, 'n_estimators': 500, 'reg_alpha': 1.5697834791707956e-06, 'reg_lambda': 0.08945464691863866, 'max_depth': 8, 'num_leaves': 156, 'colsample_bytree': 0.7501920281425067, 'subsample': 0.3060859432912322, 'subsample_freq': 10, 'min_child_samples': 11, 'scale_pos_weight': 1}. Best is trial 11 with value: 0.8628882688772054.\u001b[0m\n",
            "\u001b[32m[I 2021-08-31 05:53:56,189]\u001b[0m Trial 12 finished with value: 0.8293036829653642 and parameters: {'learning_rate': 0.01, 'n_estimators': 500, 'reg_alpha': 2.103786623585886e-05, 'reg_lambda': 0.06779019793013855, 'max_depth': 10, 'num_leaves': 183, 'colsample_bytree': 0.820023433907363, 'subsample': 0.302663087228766, 'subsample_freq': 10, 'min_child_samples': 5, 'scale_pos_weight': 1}. Best is trial 11 with value: 0.8628882688772054.\u001b[0m\n",
            "\u001b[32m[I 2021-08-31 05:53:56,781]\u001b[0m Trial 13 finished with value: 0.8337869069350706 and parameters: {'learning_rate': 0.01, 'n_estimators': 500, 'reg_alpha': 1.0428180796738622e-06, 'reg_lambda': 0.08883798549793975, 'max_depth': 10, 'num_leaves': 119, 'colsample_bytree': 0.62395500593541, 'subsample': 0.43465191501187694, 'subsample_freq': 8, 'min_child_samples': 17, 'scale_pos_weight': 2}. Best is trial 11 with value: 0.8628882688772054.\u001b[0m\n",
            "\u001b[32m[I 2021-08-31 05:53:57,231]\u001b[0m Trial 14 finished with value: 0.8523498448717634 and parameters: {'learning_rate': 0.01, 'n_estimators': 500, 'reg_alpha': 2.196655942107044e-05, 'reg_lambda': 0.06205768828722503, 'max_depth': 8, 'num_leaves': 142, 'colsample_bytree': 0.7682825721293394, 'subsample': 0.5735769141902533, 'subsample_freq': 5, 'min_child_samples': 46, 'scale_pos_weight': 1}. Best is trial 11 with value: 0.8628882688772054.\u001b[0m\n",
            "\u001b[32m[I 2021-08-31 05:53:57,773]\u001b[0m Trial 15 finished with value: 0.8373013513628295 and parameters: {'learning_rate': 0.01, 'n_estimators': 500, 'reg_alpha': 2.397317026351514e-05, 'reg_lambda': 0.059453935518568785, 'max_depth': 8, 'num_leaves': 155, 'colsample_bytree': 0.7445903765814449, 'subsample': 0.6380727874956802, 'subsample_freq': 5, 'min_child_samples': 48, 'scale_pos_weight': 2}. Best is trial 11 with value: 0.8628882688772054.\u001b[0m\n",
            "\u001b[32m[I 2021-08-31 05:53:58,586]\u001b[0m Trial 16 finished with value: 0.8357692963164345 and parameters: {'learning_rate': 0.01, 'n_estimators': 500, 'reg_alpha': 2.991995164150424e-05, 'reg_lambda': 0.02883058296981517, 'max_depth': 9, 'num_leaves': 227, 'colsample_bytree': 0.6558079996564564, 'subsample': 0.5743785471605549, 'subsample_freq': 9, 'min_child_samples': 60, 'scale_pos_weight': 1}. Best is trial 11 with value: 0.8628882688772054.\u001b[0m\n",
            "\u001b[32m[I 2021-08-31 05:53:59,495]\u001b[0m Trial 17 finished with value: 0.8498441901824076 and parameters: {'learning_rate': 0.01, 'n_estimators': 500, 'reg_alpha': 2.0269565824766868e-05, 'reg_lambda': 0.06728319626132817, 'max_depth': 8, 'num_leaves': 200, 'colsample_bytree': 0.908116669839674, 'subsample': 0.3773501985907075, 'subsample_freq': 6, 'min_child_samples': 98, 'scale_pos_weight': 3}. Best is trial 11 with value: 0.8628882688772054.\u001b[0m\n",
            "\u001b[32m[I 2021-08-31 05:54:00,183]\u001b[0m Trial 18 finished with value: 0.8210585604104655 and parameters: {'learning_rate': 0.01, 'n_estimators': 300, 'reg_alpha': 3.311565671175843e-06, 'reg_lambda': 0.031287966359630354, 'max_depth': 11, 'num_leaves': 142, 'colsample_bytree': 0.765935855098979, 'subsample': 0.5609892693102202, 'subsample_freq': 4, 'min_child_samples': 44, 'scale_pos_weight': 1}. Best is trial 11 with value: 0.8628882688772054.\u001b[0m\n",
            "\u001b[32m[I 2021-08-31 05:54:00,853]\u001b[0m Trial 19 finished with value: 0.8535766699996774 and parameters: {'learning_rate': 0.1, 'n_estimators': 100, 'reg_alpha': 2.2949288809280748e-05, 'reg_lambda': 0.056669096128736454, 'max_depth': 9, 'num_leaves': 69, 'colsample_bytree': 0.5267398436152426, 'subsample': 0.6667603817018886, 'subsample_freq': 7, 'min_child_samples': 16, 'scale_pos_weight': 2}. Best is trial 11 with value: 0.8628882688772054.\u001b[0m\n",
            "\u001b[32m[I 2021-08-31 05:54:01,293]\u001b[0m Trial 20 finished with value: 0.841988380737777 and parameters: {'learning_rate': 0.1, 'n_estimators': 100, 'reg_alpha': 1.766113039572584e-05, 'reg_lambda': 0.026710221733867244, 'max_depth': 9, 'num_leaves': 50, 'colsample_bytree': 0.4314106920363595, 'subsample': 0.6989338329408183, 'subsample_freq': 8, 'min_child_samples': 13, 'scale_pos_weight': 2}. Best is trial 11 with value: 0.8628882688772054.\u001b[0m\n",
            "\u001b[32m[I 2021-08-31 05:54:01,954]\u001b[0m Trial 21 finished with value: 0.8395077752231205 and parameters: {'learning_rate': 0.1, 'n_estimators': 100, 'reg_alpha': 2.451005001805254e-05, 'reg_lambda': 0.05629211822114545, 'max_depth': 8, 'num_leaves': 69, 'colsample_bytree': 0.5559081225027802, 'subsample': 0.6318471553072789, 'subsample_freq': 9, 'min_child_samples': 16, 'scale_pos_weight': 2}. Best is trial 11 with value: 0.8628882688772054.\u001b[0m\n",
            "\u001b[32m[I 2021-08-31 05:54:02,531]\u001b[0m Trial 22 finished with value: 0.8253043827770427 and parameters: {'learning_rate': 0.1, 'n_estimators': 100, 'reg_alpha': 2.2552579776805202e-05, 'reg_lambda': 0.07372763878614454, 'max_depth': 9, 'num_leaves': 127, 'colsample_bytree': 0.6811100207697064, 'subsample': 0.5111557529811702, 'subsample_freq': 7, 'min_child_samples': 26, 'scale_pos_weight': 1}. Best is trial 11 with value: 0.8628882688772054.\u001b[0m\n",
            "\u001b[32m[I 2021-08-31 05:54:03,205]\u001b[0m Trial 23 finished with value: 0.8302841072000811 and parameters: {'learning_rate': 0.1, 'n_estimators': 100, 'reg_alpha': 1.2972538426875761e-05, 'reg_lambda': 0.04735475145205986, 'max_depth': 11, 'num_leaves': 171, 'colsample_bytree': 0.7788764481599545, 'subsample': 0.38856588255986513, 'subsample_freq': 4, 'min_child_samples': 61, 'scale_pos_weight': 3}. Best is trial 11 with value: 0.8628882688772054.\u001b[0m\n",
            "\u001b[32m[I 2021-08-31 05:54:03,658]\u001b[0m Trial 24 finished with value: 0.8412532562914392 and parameters: {'learning_rate': 0.01, 'n_estimators': 500, 'reg_alpha': 1.8124448810570927e-05, 'reg_lambda': 0.06552228760074069, 'max_depth': 8, 'num_leaves': 209, 'colsample_bytree': 0.48819328640479176, 'subsample': 0.7226829503041378, 'subsample_freq': 9, 'min_child_samples': 11, 'scale_pos_weight': 1}. Best is trial 11 with value: 0.8628882688772054.\u001b[0m\n",
            "\u001b[32m[I 2021-08-31 05:54:04,406]\u001b[0m Trial 25 finished with value: 0.8521107072966172 and parameters: {'learning_rate': 0.1, 'n_estimators': 500, 'reg_alpha': 2.8631617722870293e-05, 'reg_lambda': 0.03987926862233878, 'max_depth': 9, 'num_leaves': 111, 'colsample_bytree': 0.8861517771952935, 'subsample': 0.533560562730505, 'subsample_freq': 7, 'min_child_samples': 73, 'scale_pos_weight': 2}. Best is trial 11 with value: 0.8628882688772054.\u001b[0m\n",
            "\u001b[32m[I 2021-08-31 05:54:05,222]\u001b[0m Trial 26 finished with value: 0.8142152615255047 and parameters: {'learning_rate': 0.01, 'n_estimators': 100, 'reg_alpha': 2.2651972915333628e-05, 'reg_lambda': 0.06055450484273519, 'max_depth': 11, 'num_leaves': 135, 'colsample_bytree': 0.6606123518098774, 'subsample': 0.615444436616869, 'subsample_freq': 6, 'min_child_samples': 21, 'scale_pos_weight': 1}. Best is trial 11 with value: 0.8628882688772054.\u001b[0m\n",
            "\u001b[32m[I 2021-08-31 05:54:05,668]\u001b[0m Trial 27 finished with value: 0.8182929292929293 and parameters: {'learning_rate': 0.1, 'n_estimators': 300, 'reg_alpha': 2.564922340428083e-05, 'reg_lambda': 0.07618959619679688, 'max_depth': 10, 'num_leaves': 77, 'colsample_bytree': 0.7834920471329297, 'subsample': 0.7674595956755346, 'subsample_freq': 4, 'min_child_samples': 36, 'scale_pos_weight': 3}. Best is trial 11 with value: 0.8628882688772054.\u001b[0m\n",
            "\u001b[32m[I 2021-08-31 05:54:06,056]\u001b[0m Trial 28 finished with value: 0.8358223397735703 and parameters: {'learning_rate': 0.05, 'n_estimators': 500, 'reg_alpha': 2.1824848046137244e-05, 'reg_lambda': 0.05126822558317158, 'max_depth': 8, 'num_leaves': 165, 'colsample_bytree': 0.5314606320246213, 'subsample': 0.3662183119613186, 'subsample_freq': 10, 'min_child_samples': 41, 'scale_pos_weight': 2}. Best is trial 11 with value: 0.8628882688772054.\u001b[0m\n",
            "\u001b[32m[I 2021-08-31 05:54:06,952]\u001b[0m Trial 29 finished with value: 0.8071555555555556 and parameters: {'learning_rate': 0.01, 'n_estimators': 100, 'reg_alpha': 5.774499331358455e-06, 'reg_lambda': 0.03728579522548185, 'max_depth': 13, 'num_leaves': 139, 'colsample_bytree': 0.5964574933042532, 'subsample': 0.9535314438174288, 'subsample_freq': 5, 'min_child_samples': 25, 'scale_pos_weight': 1}. Best is trial 11 with value: 0.8628882688772054.\u001b[0m\n",
            "\u001b[32m[I 2021-08-31 05:54:07,317]\u001b[0m Trial 30 finished with value: 0.79088942672581 and parameters: {'learning_rate': 0.05, 'n_estimators': 100, 'reg_alpha': 2.628284779863037e-05, 'reg_lambda': 0.05278550173675913, 'max_depth': 9, 'num_leaves': 100, 'colsample_bytree': 0.7078629388714534, 'subsample': 0.8787376266935525, 'subsample_freq': 2, 'min_child_samples': 31, 'scale_pos_weight': 1}. Best is trial 11 with value: 0.8628882688772054.\u001b[0m\n",
            "\u001b[32m[I 2021-08-31 05:54:07,832]\u001b[0m Trial 31 finished with value: 0.839211293392113 and parameters: {'learning_rate': 0.1, 'n_estimators': 500, 'reg_alpha': 2.950519516934114e-05, 'reg_lambda': 0.03526250435494702, 'max_depth': 9, 'num_leaves': 113, 'colsample_bytree': 0.8953948785232926, 'subsample': 0.5737156263613159, 'subsample_freq': 7, 'min_child_samples': 73, 'scale_pos_weight': 2}. Best is trial 11 with value: 0.8628882688772054.\u001b[0m\n",
            "\u001b[32m[I 2021-08-31 05:54:08,624]\u001b[0m Trial 32 finished with value: 0.8399919576118838 and parameters: {'learning_rate': 0.1, 'n_estimators': 500, 'reg_alpha': 2.7981361190576778e-05, 'reg_lambda': 0.03895255371927773, 'max_depth': 10, 'num_leaves': 63, 'colsample_bytree': 0.870050468586391, 'subsample': 0.526366618721314, 'subsample_freq': 7, 'min_child_samples': 73, 'scale_pos_weight': 2}. Best is trial 11 with value: 0.8628882688772054.\u001b[0m\n",
            "\u001b[32m[I 2021-08-31 05:54:09,511]\u001b[0m Trial 33 finished with value: 0.8317278975494373 and parameters: {'learning_rate': 0.1, 'n_estimators': 500, 'reg_alpha': 2.71880227132325e-05, 'reg_lambda': 0.021954119186535517, 'max_depth': 8, 'num_leaves': 120, 'colsample_bytree': 0.8042267934878412, 'subsample': 0.7023430132417066, 'subsample_freq': 8, 'min_child_samples': 91, 'scale_pos_weight': 2}. Best is trial 11 with value: 0.8628882688772054.\u001b[0m\n",
            "\u001b[32m[I 2021-08-31 05:54:10,049]\u001b[0m Trial 34 finished with value: 0.8169111111111111 and parameters: {'learning_rate': 0.1, 'n_estimators': 500, 'reg_alpha': 2.4413714445152566e-05, 'reg_lambda': 0.04097632122274826, 'max_depth': 9, 'num_leaves': 89, 'colsample_bytree': 0.9452104008795318, 'subsample': 0.6594464806840198, 'subsample_freq': 6, 'min_child_samples': 55, 'scale_pos_weight': 2}. Best is trial 11 with value: 0.8628882688772054.\u001b[0m\n",
            "\u001b[32m[I 2021-08-31 05:54:10,512]\u001b[0m Trial 35 finished with value: 0.8366323665446924 and parameters: {'learning_rate': 0.1, 'n_estimators': 300, 'reg_alpha': 1.2975672536106805e-05, 'reg_lambda': 0.04520567220763581, 'max_depth': 9, 'num_leaves': 54, 'colsample_bytree': 0.7336693597722759, 'subsample': 0.5248264802055688, 'subsample_freq': 7, 'min_child_samples': 68, 'scale_pos_weight': 2}. Best is trial 11 with value: 0.8628882688772054.\u001b[0m\n",
            "\u001b[32m[I 2021-08-31 05:54:10,977]\u001b[0m Trial 36 finished with value: 0.8287665709770022 and parameters: {'learning_rate': 0.05, 'n_estimators': 500, 'reg_alpha': 9.495648955517277e-06, 'reg_lambda': 0.06177367800421301, 'max_depth': 8, 'num_leaves': 41, 'colsample_bytree': 0.903814259343037, 'subsample': 0.605025992208237, 'subsample_freq': 5, 'min_child_samples': 20, 'scale_pos_weight': 1}. Best is trial 11 with value: 0.8628882688772054.\u001b[0m\n",
            "\u001b[32m[I 2021-08-31 05:54:12,115]\u001b[0m Trial 37 finished with value: 0.842511153872352 and parameters: {'learning_rate': 0.1, 'n_estimators': 500, 'reg_alpha': 1.949198743244202e-05, 'reg_lambda': 0.0526720677091661, 'max_depth': 10, 'num_leaves': 18, 'colsample_bytree': 0.9513690544043961, 'subsample': 0.6706427960687819, 'subsample_freq': 9, 'min_child_samples': 10, 'scale_pos_weight': 2}. Best is trial 11 with value: 0.8628882688772054.\u001b[0m\n",
            "\u001b[32m[I 2021-08-31 05:54:12,817]\u001b[0m Trial 38 finished with value: 0.8537857435378575 and parameters: {'learning_rate': 0.01, 'n_estimators': 1000, 'reg_alpha': 1.6504760360489042e-05, 'reg_lambda': 0.021260351572995495, 'max_depth': 11, 'num_leaves': 108, 'colsample_bytree': 0.4113166790425018, 'subsample': 0.41660711469255024, 'subsample_freq': 6, 'min_child_samples': 77, 'scale_pos_weight': 1}. Best is trial 11 with value: 0.8628882688772054.\u001b[0m\n",
            "\u001b[32m[I 2021-08-31 05:54:13,749]\u001b[0m Trial 39 finished with value: 0.8460192400524102 and parameters: {'learning_rate': 0.01, 'n_estimators': 1000, 'reg_alpha': 1.5721982570002433e-05, 'reg_lambda': 0.022246384285239673, 'max_depth': 13, 'num_leaves': 152, 'colsample_bytree': 0.40407734940979895, 'subsample': 0.41949992354442095, 'subsample_freq': 4, 'min_child_samples': 100, 'scale_pos_weight': 1}. Best is trial 11 with value: 0.8628882688772054.\u001b[0m\n",
            "\u001b[32m[I 2021-08-31 05:54:14,187]\u001b[0m Trial 40 finished with value: 0.8403813678581481 and parameters: {'learning_rate': 0.01, 'n_estimators': 1000, 'reg_alpha': 1.685922000290495e-05, 'reg_lambda': 0.004321130289229265, 'max_depth': 11, 'num_leaves': 181, 'colsample_bytree': 0.4989048875256319, 'subsample': 0.3562833050483519, 'subsample_freq': 3, 'min_child_samples': 54, 'scale_pos_weight': 1}. Best is trial 11 with value: 0.8628882688772054.\u001b[0m\n",
            "\u001b[32m[I 2021-08-31 05:54:14,885]\u001b[0m Trial 41 finished with value: 0.8561590813792213 and parameters: {'learning_rate': 0.01, 'n_estimators': 1000, 'reg_alpha': 1.4653503114752801e-05, 'reg_lambda': 0.0166129729271512, 'max_depth': 13, 'num_leaves': 106, 'colsample_bytree': 0.44232066184152, 'subsample': 0.49658619464826415, 'subsample_freq': 6, 'min_child_samples': 79, 'scale_pos_weight': 1}. Best is trial 11 with value: 0.8628882688772054.\u001b[0m\n",
            "\u001b[32m[I 2021-08-31 05:54:16,083]\u001b[0m Trial 42 finished with value: 0.8511620489663683 and parameters: {'learning_rate': 0.01, 'n_estimators': 1000, 'reg_alpha': 1.4072414012418315e-05, 'reg_lambda': 0.019652068162575552, 'max_depth': 13, 'num_leaves': 99, 'colsample_bytree': 0.45221375239784145, 'subsample': 0.48486881846646923, 'subsample_freq': 6, 'min_child_samples': 88, 'scale_pos_weight': 1}. Best is trial 11 with value: 0.8628882688772054.\u001b[0m\n",
            "\u001b[32m[I 2021-08-31 05:54:16,577]\u001b[0m Trial 43 finished with value: 0.8366942370565559 and parameters: {'learning_rate': 0.01, 'n_estimators': 1000, 'reg_alpha': 1.1931440297185362e-05, 'reg_lambda': 0.014390115170323006, 'max_depth': 14, 'num_leaves': 77, 'colsample_bytree': 0.41425235448972186, 'subsample': 0.3311985230034703, 'subsample_freq': 5, 'min_child_samples': 79, 'scale_pos_weight': 1}. Best is trial 11 with value: 0.8628882688772054.\u001b[0m\n",
            "\u001b[32m[I 2021-08-31 05:54:17,411]\u001b[0m Trial 44 finished with value: 0.8442554733480405 and parameters: {'learning_rate': 0.01, 'n_estimators': 1000, 'reg_alpha': 1.0037001817625659e-05, 'reg_lambda': 0.08111920417933915, 'max_depth': 15, 'num_leaves': 127, 'colsample_bytree': 0.45055279069841503, 'subsample': 0.4257157013878098, 'subsample_freq': 6, 'min_child_samples': 66, 'scale_pos_weight': 1}. Best is trial 11 with value: 0.8628882688772054.\u001b[0m\n",
            "\u001b[32m[I 2021-08-31 05:54:18,019]\u001b[0m Trial 45 finished with value: 0.827081886869512 and parameters: {'learning_rate': 0.01, 'n_estimators': 1000, 'reg_alpha': 7.295157145419217e-06, 'reg_lambda': 0.015327892356880996, 'max_depth': 12, 'num_leaves': 89, 'colsample_bytree': 0.5107494065896382, 'subsample': 0.47544770513629014, 'subsample_freq': 5, 'min_child_samples': 94, 'scale_pos_weight': 1}. Best is trial 11 with value: 0.8628882688772054.\u001b[0m\n",
            "\u001b[32m[I 2021-08-31 05:54:18,620]\u001b[0m Trial 46 finished with value: 0.8227921916895276 and parameters: {'learning_rate': 0.01, 'n_estimators': 1000, 'reg_alpha': 1.8707992993892193e-05, 'reg_lambda': 0.008720204960696285, 'max_depth': 13, 'num_leaves': 109, 'colsample_bytree': 0.5691301962619111, 'subsample': 0.4008330218503303, 'subsample_freq': 2, 'min_child_samples': 77, 'scale_pos_weight': 1}. Best is trial 11 with value: 0.8628882688772054.\u001b[0m\n",
            "\u001b[32m[I 2021-08-31 05:54:19,115]\u001b[0m Trial 47 finished with value: 0.8567496518249318 and parameters: {'learning_rate': 0.01, 'n_estimators': 1000, 'reg_alpha': 2.0034302586163125e-05, 'reg_lambda': 0.0035938104549686142, 'max_depth': 12, 'num_leaves': 160, 'colsample_bytree': 0.48144227087372726, 'subsample': 0.33179189191546343, 'subsample_freq': 6, 'min_child_samples': 81, 'scale_pos_weight': 1}. Best is trial 11 with value: 0.8628882688772054.\u001b[0m\n",
            "\u001b[32m[I 2021-08-31 05:54:19,788]\u001b[0m Trial 48 finished with value: 0.8593524383040169 and parameters: {'learning_rate': 0.01, 'n_estimators': 1000, 'reg_alpha': 1.4764583626954358e-05, 'reg_lambda': 0.004685304944052433, 'max_depth': 12, 'num_leaves': 170, 'colsample_bytree': 0.47190383377391487, 'subsample': 0.3305317687742776, 'subsample_freq': 8, 'min_child_samples': 85, 'scale_pos_weight': 1}. Best is trial 11 with value: 0.8628882688772054.\u001b[0m\n",
            "\u001b[32m[I 2021-08-31 05:54:20,324]\u001b[0m Trial 49 finished with value: 0.840821417997527 and parameters: {'learning_rate': 0.01, 'n_estimators': 1000, 'reg_alpha': 1.4959174710771729e-05, 'reg_lambda': 0.004676800754387772, 'max_depth': 12, 'num_leaves': 167, 'colsample_bytree': 0.4707170448629531, 'subsample': 0.34238442860601936, 'subsample_freq': 8, 'min_child_samples': 86, 'scale_pos_weight': 1}. Best is trial 11 with value: 0.8628882688772054.\u001b[0m\n"
          ]
        },
        {
          "output_type": "stream",
          "name": "stdout",
          "text": [
            "Best Score: 0.8628882688772054\n",
            "Best trial: {'learning_rate': 0.01, 'n_estimators': 500, 'reg_alpha': 1.5697834791707956e-06, 'reg_lambda': 0.08945464691863866, 'max_depth': 8, 'num_leaves': 156, 'colsample_bytree': 0.7501920281425067, 'subsample': 0.3060859432912322, 'subsample_freq': 10, 'min_child_samples': 11, 'scale_pos_weight': 1}\n"
          ]
        }
      ]
    },
    {
      "cell_type": "code",
      "metadata": {
        "colab": {
          "base_uri": "https://localhost:8080/"
        },
        "id": "tr-S0pC3wgsS",
        "outputId": "22cb6aab-2836-4ebf-8b4e-90a9f21ddfc6"
      },
      "source": [
        "study.best_params  ## 최적 파라미터 확인"
      ],
      "execution_count": 313,
      "outputs": [
        {
          "output_type": "execute_result",
          "data": {
            "text/plain": [
              "{'colsample_bytree': 0.7501920281425067,\n",
              " 'learning_rate': 0.01,\n",
              " 'max_depth': 8,\n",
              " 'min_child_samples': 11,\n",
              " 'n_estimators': 500,\n",
              " 'num_leaves': 156,\n",
              " 'reg_alpha': 1.5697834791707956e-06,\n",
              " 'reg_lambda': 0.08945464691863866,\n",
              " 'scale_pos_weight': 1,\n",
              " 'subsample': 0.3060859432912322,\n",
              " 'subsample_freq': 10}"
            ]
          },
          "metadata": {},
          "execution_count": 313
        }
      ]
    },
    {
      "cell_type": "code",
      "metadata": {
        "colab": {
          "base_uri": "https://localhost:8080/"
        },
        "id": "_FkMzmQHx0cy",
        "outputId": "e73d4ca2-fe00-4125-96e4-baca80b9ff12"
      },
      "source": [
        "best_model = XGBClassifier(**study.best_params)  ## 최적 모델 정의\n",
        "best_model"
      ],
      "execution_count": 315,
      "outputs": [
        {
          "output_type": "execute_result",
          "data": {
            "text/plain": [
              "XGBClassifier(base_score=0.5, booster='gbtree', colsample_bylevel=1,\n",
              "              colsample_bynode=1, colsample_bytree=0.7501920281425067, gamma=0,\n",
              "              learning_rate=0.01, max_delta_step=0, max_depth=8,\n",
              "              min_child_samples=11, min_child_weight=1, missing=None,\n",
              "              n_estimators=500, n_jobs=1, nthread=None, num_leaves=156,\n",
              "              objective='binary:logistic', random_state=0,\n",
              "              reg_alpha=1.5697834791707956e-06, reg_lambda=0.08945464691863866,\n",
              "              scale_pos_weight=1, seed=None, silent=None,\n",
              "              subsample=0.3060859432912322, subsample_freq=10, verbosity=1)"
            ]
          },
          "metadata": {},
          "execution_count": 315
        }
      ]
    },
    {
      "cell_type": "code",
      "metadata": {
        "colab": {
          "base_uri": "https://localhost:8080/"
        },
        "id": "XGUvLFx6zcvz",
        "outputId": "9c2fe900-fac7-470d-ea94-0dda166e0f53"
      },
      "source": [
        "best_model.fit(x_train, y_train) ## 최적 모델로 학습"
      ],
      "execution_count": 317,
      "outputs": [
        {
          "output_type": "execute_result",
          "data": {
            "text/plain": [
              "XGBClassifier(base_score=0.5, booster='gbtree', colsample_bylevel=1,\n",
              "              colsample_bynode=1, colsample_bytree=0.7501920281425067, gamma=0,\n",
              "              learning_rate=0.01, max_delta_step=0, max_depth=8,\n",
              "              min_child_samples=11, min_child_weight=1, missing=None,\n",
              "              n_estimators=500, n_jobs=1, nthread=None, num_leaves=156,\n",
              "              objective='binary:logistic', random_state=0,\n",
              "              reg_alpha=1.5697834791707956e-06, reg_lambda=0.08945464691863866,\n",
              "              scale_pos_weight=1, seed=None, silent=None,\n",
              "              subsample=0.3060859432912322, subsample_freq=10, verbosity=1)"
            ]
          },
          "metadata": {},
          "execution_count": 317
        }
      ]
    },
    {
      "cell_type": "code",
      "metadata": {
        "colab": {
          "base_uri": "https://localhost:8080/"
        },
        "id": "YsKMI_-zy3IT",
        "outputId": "e0b6fcb0-0857-4e99-c2da-c13e7fc9e5e3"
      },
      "source": [
        "### 최적 모델을 이용하여 테스트 데이터 셋을 이용하여 예측 후 roc_auc값 결과 확인\n",
        "y_pred_test_xgb= best_model.predict_proba(x_test)[:, 1]\n",
        "print(f'test score: {roc_auc_score(y_test, y_pred_test_xgb)}')  ## best model를 이용한 roc_auc_score결과"
      ],
      "execution_count": 318,
      "outputs": [
        {
          "output_type": "stream",
          "name": "stdout",
          "text": [
            "test score: 0.8492333217719015\n"
          ]
        }
      ]
    },
    {
      "cell_type": "code",
      "metadata": {
        "id": "oinag3BzzV1a"
      },
      "source": [
        ""
      ],
      "execution_count": null,
      "outputs": []
    }
  ]
}