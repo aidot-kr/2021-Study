{
  "nbformat": 4,
  "nbformat_minor": 0,
  "metadata": {
    "colab": {
      "name": "Understanding_regression 박기정.ipynb",
      "provenance": [],
      "collapsed_sections": []
    },
    "kernelspec": {
      "name": "python3",
      "display_name": "Python 3"
    },
    "language_info": {
      "name": "python"
    }
  },
  "cells": [
    {
      "cell_type": "markdown",
      "metadata": {
        "id": "8G62__IiNiBv"
      },
      "source": [
        "회기 이해\n"
      ]
    },
    {
      "cell_type": "code",
      "metadata": {
        "id": "H2fQDH-lNbsL"
      },
      "source": [
        "회기테스트"
      ],
      "execution_count": null,
      "outputs": []
    }
  ]
}