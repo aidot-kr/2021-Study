{
  "nbformat": 4,
  "nbformat_minor": 0,
  "metadata": {
    "colab": {
      "name": "Hypothesis testing, p-hacking.ipynb",
      "provenance": [],
      "collapsed_sections": []
    },
    "kernelspec": {
      "name": "python3",
      "display_name": "Python 3"
    },
    "language_info": {
      "name": "python"
    }
  },
  "cells": [
    {
      "cell_type": "markdown",
      "metadata": {
        "id": "9JVuY1xz7nPB"
      },
      "source": [
        "# Hypothesis testing(가설검증)\n",
        "\n",
        " ㅇ 가설검증은 실험 데이터세트를 이용한 통계적 의사결정에 이용\n",
        "\n",
        " ㅇ 모집단 모수의 상태에 대한 가정을 검증하는데 사용\n",
        "\n",
        "# Hypothesis testing principle(가설검증 원리)\n",
        "\n",
        " ㅇ가설검증은 두가지 기술통계 기법에 의해 사용(정규화, 표준정규화)\n",
        "  \n",
        "  - 정규화: 데이터를 일정한 규칙에 따라 변형하여 이용하기 쉽게 만드는 일\n",
        " <img src = 'https://static.packt-cdn.com/products/9781789537253/graphics/assets/121443f2-9e8d-4a29-a496-1a5517848ad1.png' width='300'/>\n",
        ![정규화](https://static.packt-cdn.com/products/9781789537253/graphics/assets/121443f2-9e8d-4a29-a496-1a5517848ad1.png)

        "\n",
        "  - 표준정규화: 평균이 0, 편차가 1인 데이터셋으로 만드는 것\n",
        "  <img src = 'https://static.packt-cdn.com/products/9781789537253/graphics/assets/73c81a62-baad-4bd2-b1e3-e3409b714b6a.png' width='300'/>\n",
        "  \n",
        "   X  : 데이터​\n",
        "\n",
        "   μ : 데이터의 평균​\n",
        "\n",
        "   σ : 데이터의 표준편차\n",
        "<br/>\n",
        "\n",
        " ㅇ 귀무가설(null hypothesis, H0): 연구를 통해 밝히고자 하는 모집단에 대한 가설\n",
        " \n",
        " ㅇ 대립가설(alternative hypothesis, H1): 귀무가설에 반대되는 다른 가설\n",
        "\n",
        " ㅇ p-value: 관찰된 데이터의 검정통계량이 귀무가설을 지지하는 정도를 확률로 표현한 것\n",
        "\n",
        " ㅇ 유의수준: 가설을 사용하기 전 숙지해야할 중요개념, 유의 수준은 귀무가설을 수용하거나 거부하는 중요도 수준. 일반적으로 0.05 또는 5%\n",
        " \n",
        "\n"
      ]
    },
    {
      "cell_type": "code",
      "metadata": {
        "colab": {
          "base_uri": "https://localhost:8080/"
        },
        "id": "We_xxMtxrc5c",
        "outputId": "b40c24fd-32e3-49aa-ba16-0983268d2671"
      },
      "source": [
        "import numpy as np\n",
        "import pandas as pd\n",
        "\n",
        "data = np.array([52, 57, 57, 75, 61, 47, 54, 66, 54, 54, 42, 37, 79, 56, 62, 62, 55, 63, 57])\n",
        "\n",
        "(data - data.mean())/data.std()\n"
      ],
      "execution_count": 1,
      "outputs": [
        {
          "output_type": "execute_result",
          "data": {
            "text/plain": [
              "array([-0.55614122, -0.03816655, -0.03816655,  1.82654226,  0.37621318,\n",
              "       -1.07411589, -0.34895136,  0.89418785, -0.34895136, -0.34895136,\n",
              "       -1.59209056, -2.11006523,  2.24092199, -0.14176149,  0.47980812,\n",
              "        0.47980812, -0.24535642,  0.58340305, -0.03816655])"
            ]
          },
          "metadata": {
            "tags": []
          },
          "execution_count": 1
        }
      ]
    },
    {
      "cell_type": "markdown",
      "metadata": {
        "id": "t6iDaDtS_ah7"
      },
      "source": [
        "# Statsmodels 라이브러리\n",
        "\n",
        "인구 : 10대가 있는 부모 ( >= 18세)\n",
        "\n",
        "관심 매개변수: p\n",
        "\n",
        "귀무 가설: p = 0.48\n",
        "\n",
        "대립 가설: p > 0.48"
      ]
    },
    {
      "cell_type": "code",
      "metadata": {
        "colab": {
          "base_uri": "https://localhost:8080/"
        },
        "id": "b4qqQm8H7ciH",
        "outputId": "76740b39-8de7-40f9-ef90-a58be4f11c17"
      },
      "source": [
        "import statsmodels.api as sm\n",
        "import numpy as np\n",
        "import matplotlib.pyplot as plt\n",
        "import pandas as pd\n",
        "\n",
        "n = 4500\n",
        "pnull = 0.48\n",
        "phat = 0.65\n",
        "\n",
        "sm.stats.proportions_ztest(phat * n, n, pnull, alternative='larger')\n",
        "\n"
      ],
      "execution_count": null,
      "outputs": [
        {
          "output_type": "stream",
          "text": [
            "/usr/local/lib/python3.7/dist-packages/statsmodels/tools/_testing.py:19: FutureWarning: pandas.util.testing is deprecated. Use the functions in the public API at pandas.testing instead.\n",
            "  import pandas.util.testing as tm\n"
          ],
          "name": "stderr"
        },
        {
          "output_type": "execute_result",
          "data": {
            "text/plain": [
              "(23.90916877786327, 1.2294951052777303e-126)"
            ]
          },
          "metadata": {
            "tags": []
          },
          "execution_count": 2
        }
      ]
    },
    {
      "cell_type": "markdown",
      "metadata": {
        "id": "7BiZlkQu_9lq"
      },
      "source": [
        "# 평균독서시간\n",
        "\n",
        "모집단: 모든 성인\n",
        "\n",
        "관심 매개변수: 교실의 인구인 μ.\n",
        "\n",
        "귀무 가설: μ = 212\n",
        "\n",
        "대립 가설: μ > 212\n",
        "\n",
        "신뢰수준: α = 0.05"
      ]
    },
    {
      "cell_type": "code",
      "metadata": {
        "colab": {
          "base_uri": "https://localhost:8080/"
        },
        "id": "IxudLxJHAAKi",
        "outputId": "c14601b2-102e-4a86-fdea-698173e3f95f"
      },
      "source": [
        "import numpy as np\n",
        "\n",
        "sdata = np.random.randint(200, 250, 89)\n",
        "sm.stats.ztest(sdata, value = 80, alternative = \"larger\")"
      ],
      "execution_count": null,
      "outputs": [
        {
          "output_type": "execute_result",
          "data": {
            "text/plain": [
              "(96.80363988329587, 0.0)"
            ]
          },
          "metadata": {
            "tags": []
          },
          "execution_count": 5
        }
      ]
    },
    {
      "cell_type": "markdown",
      "metadata": {
        "id": "ACzf2T4EANQ8"
      },
      "source": [
        "# 가설검증 유형\n",
        "\n",
        "- Z-TEST\n",
        "\n",
        "- T-TEST\n",
        "\n",
        "- 분산분석 검정\n",
        "\n",
        "- 카이-제곱검정"
      ]
    },
    {
      "cell_type": "markdown",
      "metadata": {
        "id": "NCuDGPOiAY6e"
      },
      "source": [
        "# T - TEST\n",
        "\n",
        "모집단: 그 반의 모든 학생들은\n",
        "\n",
        "관심 매개변수: 교실의 인구인 μ.\n",
        "\n",
        "귀무 가설: 평균 높이는 μ = 175\n",
        "\n",
        "대립 가설: μ > 175\n",
        "\n",
        "신뢰수준: α = 0.05"
      ]
    },
    {
      "cell_type": "code",
      "metadata": {
        "colab": {
          "base_uri": "https://localhost:8080/"
        },
        "id": "FHOZVSpqAbVF",
        "outputId": "78da47a1-ca43-4423-b991-ffa717754f01"
      },
      "source": [
        "import numpy as np\n",
        "height = np.array([172, 184, 174, 168, 174, 183, 173, 173, 184, 179, 171, 173, 181, 183, 172, 178, 170, 182, 181, 172, 175, 170, 168, 178, 170, 181, 180, 173, 183, 180, 177, 181, 171, 173, 171, 182, 180, 170, 172, 175, 178, 174, 184, 177, 181, 180, 178, 179, 175, 170, 182, 176, 183, 179, 177])\n",
        "\n",
        "from scipy.stats import ttest_1samp\n",
        "import numpy as np\n",
        "\n",
        "height_average = np.mean(height)\n",
        "print(\"Average height is = {0:.3f}\".format(height_average))\n",
        "\n",
        "#Average height is = 175.618"
      ],
      "execution_count": null,
      "outputs": [
        {
          "output_type": "stream",
          "text": [
            "Average height is = 176.545\n"
          ],
          "name": "stdout"
        }
      ]
    },
    {
      "cell_type": "code",
      "metadata": {
        "colab": {
          "base_uri": "https://localhost:8080/"
        },
        "id": "Gnp3sME7Ar-S",
        "outputId": "463bf498-7c18-4250-f8cf-8c1c185e629d"
      },
      "source": [
        "tset,pval = ttest_1samp(height, 175)\n",
        "\n",
        "print(\"P-value = {}\".format(pval))\n",
        "\n",
        "if pval < 0.05:\n",
        " print(\"We are rejecting the null Hypothesis.\")\n",
        "else:\n",
        "  print(\"We are accepting the null hypothesis.\")"
      ],
      "execution_count": null,
      "outputs": [
        {
          "output_type": "stream",
          "text": [
            "P-value = 0.019403337788027566\n",
            "We are rejecting the null Hypothesis.\n"
          ],
          "name": "stdout"
        }
      ]
    },
    {
      "cell_type": "markdown",
      "metadata": {
        "id": "jcdIc5rqotPP"
      },
      "source": [
        "# P-hacking(유의확률)\n",
        "\n",
        "- 통계 처리 방법 중 하나인 유의 확률 p-값에 관련한 부정 행위\n",
        "\n",
        "- 실험의 결괏값에는 손을 대지 않지만, 이를 해석하는 귀무가설을 여러 방법으로 바꿔보고 분석할 데이터를 선별해서 원하는 피 값을 얻어내는 것.\n",
        "\n"
      ]
    }
  ]
}
