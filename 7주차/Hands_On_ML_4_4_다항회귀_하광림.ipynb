{
  "nbformat": 4,
  "nbformat_minor": 0,
  "metadata": {
    "colab": {
      "name": "Hands-On ML - chapter 4 - 하광림.ipynb",
      "provenance": [],
      "collapsed_sections": []
    },
    "kernelspec": {
      "name": "python3",
      "display_name": "Python 3"
    },
    "language_info": {
      "name": "python"
    }
  },
  "cells": [
    {
      "cell_type": "markdown",
      "metadata": {
        "id": "mS9zb0PS8AwF"
      },
      "source": [
        "#2.5 머신러닝 알고리즘을 위한 데이터 준비"
      ]
    },
    {
      "cell_type": "markdown",
      "metadata": {
        "id": "sVMuJj9yHHIV"
      },
      "source": [
        "---\n",
        "#Google Drive"
      ]
    },
    {
      "cell_type": "code",
      "metadata": {
        "id": "1HWvFacM78t_",
        "colab": {
          "base_uri": "https://localhost:8080/"
        },
        "outputId": "16a599b3-fbda-49b1-914b-da6dbeeb0662"
      },
      "source": [
        "from google.colab import drive\n",
        "drive.mount('/content/gdrive')"
      ],
      "execution_count": null,
      "outputs": [
        {
          "output_type": "stream",
          "name": "stdout",
          "text": [
            "Mounted at /content/gdrive\n"
          ]
        }
      ]
    },
    {
      "cell_type": "markdown",
      "metadata": {
        "id": "gyDUfBDkGSA8"
      },
      "source": [
        "#Libraries"
      ]
    },
    {
      "cell_type": "code",
      "metadata": {
        "id": "XH4rIOMe9w71"
      },
      "source": [
        "import os\n",
        "import numpy as np\n",
        "import pandas as pd\n",
        "\n",
        "%matplotlib inline\n",
        "import matplotlib.pyplot as plt"
      ],
      "execution_count": null,
      "outputs": []
    },
    {
      "cell_type": "markdown",
      "metadata": {
        "id": "q_BMfgjMuCSr"
      },
      "source": [
        "#CHAPTER 4"
      ]
    },
    {
      "cell_type": "markdown",
      "metadata": {
        "id": "NZyQIIpCuGpZ"
      },
      "source": [
        "#4.1 선형 회귀"
      ]
    },
    {
      "cell_type": "markdown",
      "metadata": {
        "id": "vhueVKhOuN5z"
      },
      "source": [
        "#4.1.1 정규방정식\n",
        "*   비용 함수를 최소화하는 theta값을 찾기 위한 해석적인 방법 -> 정규방정식\n",
        "*   정규방정식(Normal equation 혹은 Ordinary least squares 혹은 linear least squares)은 통계학에서 선형 회귀상에서 알지 못하는 값(parameter)를 예측하기 위한 방법론\n",
        "*   \n",
        "![normal_equation.jpg](data:image/jpeg;base64,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)"
      ]
    },
    {
      "cell_type": "code",
      "metadata": {
        "id": "n-stw-Gj6zKI"
      },
      "source": [
        "X = 2 * np.random.rand(100, 1)\n",
        "y = 4 + 3 * X + np.random.randn(100, 1)"
      ],
      "execution_count": null,
      "outputs": []
    },
    {
      "cell_type": "code",
      "metadata": {
        "colab": {
          "base_uri": "https://localhost:8080/",
          "height": 285
        },
        "id": "qZ2m8EvY9Aha",
        "outputId": "8328bd30-b0e3-49b1-ab40-79870fc4fedc"
      },
      "source": [
        "scatter = plt.scatter(X, y)\n",
        "\n",
        "plt.xlabel('X1', labelpad = 10)\n",
        "plt.ylabel('y', labelpad = 10)\n",
        "\n",
        "plt.show()"
      ],
      "execution_count": null,
      "outputs": [
        {
          "output_type": "display_data",
          "data": {
            "image/png": "[encoded data removed]",
            "text/plain": [
              "<Figure size 432x288 with 1 Axes>"
            ]
          },
          "metadata": {
            "needs_background": "light"
          }
        }
      ]
    },
    {
      "cell_type": "code",
      "metadata": {
        "id": "qUYpZ7Eo-PRW"
      },
      "source": [
        "X_b = np.c_[np.ones((100, 1)), X]\n",
        "# print('X_b = ', X_b)"
      ],
      "execution_count": null,
      "outputs": []
    },
    {
      "cell_type": "code",
      "metadata": {
        "colab": {
          "base_uri": "https://localhost:8080/"
        },
        "id": "mQD8HV6o-rm2",
        "outputId": "5eed1f2d-f1a0-49eb-d11b-a7041d3cc26b"
      },
      "source": [
        "theta_best = np.linalg.inv(X_b.T.dot(X_b)).dot(X_b.T).dot(y)\n",
        "print('theta_best = ', theta_best)"
      ],
      "execution_count": null,
      "outputs": [
        {
          "output_type": "stream",
          "name": "stdout",
          "text": [
            "theta_best =  [[4.21589322]\n",
            " [2.87659202]]\n"
          ]
        }
      ]
    },
    {
      "cell_type": "code",
      "metadata": {
        "colab": {
          "base_uri": "https://localhost:8080/"
        },
        "id": "xKgpkVJX_pho",
        "outputId": "8f004826-2566-4985-cdda-9b14827cec3b"
      },
      "source": [
        "X_new = np.array([[0], [2]])\n",
        "X_new_b = np.c_[np.ones((2, 1)), X_new]\n",
        "y_predict = X_new_b.dot(theta_best)\n",
        "print('y_predict = ',  y_predict)"
      ],
      "execution_count": null,
      "outputs": [
        {
          "output_type": "stream",
          "name": "stdout",
          "text": [
            "y_predict =  [[4.21589322]\n",
            " [9.96907725]]\n"
          ]
        }
      ]
    },
    {
      "cell_type": "code",
      "metadata": {
        "colab": {
          "base_uri": "https://localhost:8080/",
          "height": 265
        },
        "id": "9PQC5A4wAQ-s",
        "outputId": "ab4714d7-037e-4c7b-bd46-055dc394e098"
      },
      "source": [
        "plt.plot(X_new, y_predict, \"r-\")\n",
        "plt.plot(X, y, \"b.\")\n",
        "plt.axis([0, 2, 0, 15])\n",
        "plt.show()"
      ],
      "execution_count": null,
      "outputs": [
        {
          "output_type": "display_data",
          "data": {
            "image/png": "[encoded data removed]",
            "text/plain": [
              "<Figure size 432x288 with 1 Axes>"
            ]
          },
          "metadata": {
            "needs_background": "light"
          }
        }
      ]
    },
    {
      "cell_type": "markdown",
      "metadata": {
        "id": "tQbIWeS_xMWn"
      },
      "source": [
        "* 사이킷런에서의 선형회귀"
      ]
    },
    {
      "cell_type": "code",
      "metadata": {
        "colab": {
          "base_uri": "https://localhost:8080/"
        },
        "id": "RrSTPFGnAnhg",
        "outputId": "113abbd2-5759-42eb-df5b-136528924642"
      },
      "source": [
        "from sklearn.linear_model import LinearRegression\n",
        "\n",
        "lin_reg = LinearRegression()\n",
        "lin_reg.fit(X, y)"
      ],
      "execution_count": null,
      "outputs": [
        {
          "output_type": "execute_result",
          "data": {
            "text/plain": [
              "LinearRegression(copy_X=True, fit_intercept=True, n_jobs=None, normalize=False)"
            ]
          },
          "metadata": {},
          "execution_count": 9
        }
      ]
    },
    {
      "cell_type": "code",
      "metadata": {
        "colab": {
          "base_uri": "https://localhost:8080/"
        },
        "id": "J8bveFCYA1xA",
        "outputId": "f5f6bd3e-d888-4591-afdf-b0e8e0b065a4"
      },
      "source": [
        "print('lin_reg.intercept_ = ', lin_reg.intercept_)\n",
        "print('lin_reg.coef_ = ', lin_reg.coef_)"
      ],
      "execution_count": null,
      "outputs": [
        {
          "output_type": "stream",
          "name": "stdout",
          "text": [
            "lin_reg.intercept_ =  [4.21589322]\n",
            "lin_reg.coef_ =  [[2.87659202]]\n"
          ]
        }
      ]
    },
    {
      "cell_type": "code",
      "metadata": {
        "colab": {
          "base_uri": "https://localhost:8080/"
        },
        "id": "gFDBOivZBIAE",
        "outputId": "0acb5a85-9fe2-4eae-bae2-cef357247f1e"
      },
      "source": [
        "lin_reg_pre = lin_reg.predict(X_new)\n",
        "print('lin_reg_pre = ', lin_reg_pre)"
      ],
      "execution_count": null,
      "outputs": [
        {
          "output_type": "stream",
          "name": "stdout",
          "text": [
            "lin_reg_pre =  [[4.21589322]\n",
            " [9.96907725]]\n"
          ]
        }
      ]
    },
    {
      "cell_type": "code",
      "metadata": {
        "colab": {
          "base_uri": "https://localhost:8080/"
        },
        "id": "eb2nvJNXBfEq",
        "outputId": "21ebe045-68be-42aa-9f07-7a95abd10832"
      },
      "source": [
        "theta_best_svd, residuals, rank, s = np.linalg.lstsq(X_b, y, rcond=1e-6)\n",
        "print('theta_best_svd = ', theta_best_svd)"
      ],
      "execution_count": null,
      "outputs": [
        {
          "output_type": "stream",
          "name": "stdout",
          "text": [
            "theta_best_svd =  [[4.21589322]\n",
            " [2.87659202]]\n"
          ]
        }
      ]
    },
    {
      "cell_type": "code",
      "metadata": {
        "colab": {
          "base_uri": "https://localhost:8080/"
        },
        "id": "IIIiIZkAB1Hn",
        "outputId": "eb03c653-48f0-483b-96cd-b4b9c797b131"
      },
      "source": [
        "pseudo_inv = np.linalg.pinv(X_b).dot(y)\n",
        "print('pseudo_inv = ', pseudo_inv)"
      ],
      "execution_count": null,
      "outputs": [
        {
          "output_type": "stream",
          "name": "stdout",
          "text": [
            "pseudo_inv =  [[4.21589322]\n",
            " [2.87659202]]\n"
          ]
        }
      ]
    },
    {
      "cell_type": "markdown",
      "metadata": {
        "id": "qkPHCkYCxYjv"
      },
      "source": [
        "#4.2 경사 하강법"
      ]
    },
    {
      "cell_type": "markdown",
      "metadata": {
        "id": "c3s8AUksFNcr"
      },
      "source": [
        "#4.2.1 배치 경사 하강법"
      ]
    },
    {
      "cell_type": "code",
      "metadata": {
        "colab": {
          "base_uri": "https://localhost:8080/"
        },
        "id": "xBYbAbyUFJgG",
        "outputId": "14700b07-4809-4362-b101-7c7ecbde6394"
      },
      "source": [
        "eta = 0.1\n",
        "n_iterations = 1000\n",
        "m = 100\n",
        "\n",
        "theta = np.random.randn(2, 1)\n",
        "\n",
        "for iteration in range(n_iterations):\n",
        "  gradients = 2/m * X_b.T.dot(X_b.dot(theta) - y)\n",
        "  theta = theta - eta * gradients\n",
        "\n",
        "print('theta = ', theta)"
      ],
      "execution_count": null,
      "outputs": [
        {
          "output_type": "stream",
          "name": "stdout",
          "text": [
            "theta =  [[4.21589322]\n",
            " [2.87659202]]\n"
          ]
        }
      ]
    },
    {
      "cell_type": "markdown",
      "metadata": {
        "id": "WrmSMHyVseM3"
      },
      "source": [
        "#4.2.2 확률적 경사 하강법"
      ]
    },
    {
      "cell_type": "code",
      "metadata": {
        "colab": {
          "base_uri": "https://localhost:8080/"
        },
        "id": "ax_64oZ1slUK",
        "outputId": "c35ab78f-2d93-404b-d9fb-f5333d5d5a6e"
      },
      "source": [
        "n_epochs = 50\n",
        "t0, t1 = 5, 50\n",
        "\n",
        "def learning_schedule(t):\n",
        "  return t0/(t+t1)\n",
        "\n",
        "theta = np.random.randn(2, 1)\n",
        "print('theta = ', theta)\n",
        "\n",
        "for epoch in range(n_epochs):\n",
        "  for i in range(m):\n",
        "    random_index = np.random.randint(m)\n",
        "    xi = X_b[random_index:random_index+1]\n",
        "    yi = y[random_index:random_index+1]\n",
        "    gradients = 2*xi.T.dot(xi.dot(theta) - yi)\n",
        "    eta = learning_schedule(epoch*m + i)\n",
        "    theta = theta - eta*gradients\n",
        "    \n",
        "  # if (epoch < 5):\n",
        "  #   print('theta = ', theta)    \n",
        "\n",
        "# print('i = ', i)\n",
        "print('theta = ', theta)"
      ],
      "execution_count": null,
      "outputs": [
        {
          "output_type": "stream",
          "name": "stdout",
          "text": [
            "theta =  [[0.40706712]\n",
            " [1.331459  ]]\n",
            "theta =  [[3.91715409]\n",
            " [3.2074583 ]]\n",
            "theta =  [[4.02917821]\n",
            " [2.93995816]]\n",
            "theta =  [[4.12304078]\n",
            " [2.73773727]]\n",
            "theta =  [[4.31923964]\n",
            " [2.92927619]]\n",
            "theta =  [[4.13468977]\n",
            " [2.91550185]]\n",
            "theta =  [[4.20561672]\n",
            " [2.83379684]]\n"
          ]
        }
      ]
    },
    {
      "cell_type": "markdown",
      "metadata": {
        "id": "QdBAncv50OLN"
      },
      "source": [
        "* 사이킷런 SDG 방식 선형회귀 -> SGDRegressor"
      ]
    },
    {
      "cell_type": "code",
      "metadata": {
        "colab": {
          "base_uri": "https://localhost:8080/"
        },
        "id": "YS7nRHuH0n4w",
        "outputId": "1150f2e8-8f4a-4d85-e7ea-0a97a61722f1"
      },
      "source": [
        "from sklearn.linear_model import SGDRegressor\n",
        "\n",
        "sgd_reg = SGDRegressor(max_iter=1000, tol=1e-3, penalty=None, eta0=0.1)\n",
        "sgd_reg.fit(X, y.ravel())"
      ],
      "execution_count": null,
      "outputs": [
        {
          "output_type": "execute_result",
          "data": {
            "text/plain": [
              "SGDRegressor(alpha=0.0001, average=False, early_stopping=False, epsilon=0.1,\n",
              "             eta0=0.1, fit_intercept=True, l1_ratio=0.15,\n",
              "             learning_rate='invscaling', loss='squared_loss', max_iter=1000,\n",
              "             n_iter_no_change=5, penalty=None, power_t=0.25, random_state=None,\n",
              "             shuffle=True, tol=0.001, validation_fraction=0.1, verbose=0,\n",
              "             warm_start=False)"
            ]
          },
          "metadata": {},
          "execution_count": 21
        }
      ]
    },
    {
      "cell_type": "code",
      "metadata": {
        "colab": {
          "base_uri": "https://localhost:8080/"
        },
        "id": "_8j3sY3I1vsL",
        "outputId": "f509fb6b-48df-4273-d1f1-ba04fa97214e"
      },
      "source": [
        "print('sgd_reg.intercept_ = ', sgd_reg.intercept_)\n",
        "print('sgd_reg.coef_ = ', sgd_reg.coef_)"
      ],
      "execution_count": null,
      "outputs": [
        {
          "output_type": "stream",
          "name": "stdout",
          "text": [
            "sgd_reg.intercept_ =  [4.18033147]\n",
            "sgd_reg.coef_ =  [2.8521284]\n"
          ]
        }
      ]
    },
    {
      "cell_type": "markdown",
      "metadata": {
        "id": "5g8oDdW32jw2"
      },
      "source": [
        "#4.2.3 미니배치 경사 하강법"
      ]
    },
    {
      "cell_type": "markdown",
      "metadata": {
        "id": "RHhw_Je72qJe"
      },
      "source": [
        "#4.3 다항 회귀"
      ]
    },
    {
      "cell_type": "markdown",
      "metadata": {
        "id": "2c9HcB8T3HHj"
      },
      "source": [
        "\n",
        "\n",
        "*   잡음을 포함한 비선형 데이터셋\n",
        "\n"
      ]
    },
    {
      "cell_type": "code",
      "metadata": {
        "id": "Dof5NnfQ3M-q"
      },
      "source": [
        "m = 100\n",
        "X = 6 * np.random.rand(m, 1) - 3\n",
        "y = 0.5 * X**2 + X + 2 + np.random.randn(m, 1)\n",
        "# y = 0.5X^2 + X + (2 + np.random.randn(m, 1))"
      ],
      "execution_count": null,
      "outputs": []
    },
    {
      "cell_type": "code",
      "metadata": {
        "colab": {
          "base_uri": "https://localhost:8080/",
          "height": 285
        },
        "id": "qZCCLuaG4QOH",
        "outputId": "4cb742bb-bf57-4232-fe8d-681f1ba87cd3"
      },
      "source": [
        "scatter = plt.scatter(X, y)\n",
        "\n",
        "plt.xlabel('X1', labelpad = 10)\n",
        "plt.ylabel('y', labelpad = 10)\n",
        "\n",
        "plt.show()"
      ],
      "execution_count": null,
      "outputs": [
        {
          "output_type": "display_data",
          "data": {
            "image/png": "[encoded data removed]",
            "text/plain": [
              "<Figure size 432x288 with 1 Axes>"
            ]
          },
          "metadata": {
            "needs_background": "light"
          }
        }
      ]
    },
    {
      "cell_type": "markdown",
      "metadata": {
        "id": "v9JM9fNX4tRb"
      },
      "source": [
        "* 사이킷런 PolynomialFeatures 사용해 훈련 데이터를 변환"
      ]
    },
    {
      "cell_type": "code",
      "metadata": {
        "id": "uFhM0m-342Pi"
      },
      "source": [
        "from sklearn.preprocessing import PolynomialFeatures\n",
        "\n",
        "poly_features = PolynomialFeatures(degree=2, include_bias=False)\n",
        "X_poly = poly_features.fit_transform(X)"
      ],
      "execution_count": null,
      "outputs": []
    },
    {
      "cell_type": "code",
      "metadata": {
        "colab": {
          "base_uri": "https://localhost:8080/"
        },
        "id": "VK6mjBAn5M66",
        "outputId": "c8a51cac-f159-404e-bbdb-65a5325816a7"
      },
      "source": [
        "print('X[0] = ', X[0])\n",
        "print('X_poly[0] = ', X_poly[0])"
      ],
      "execution_count": null,
      "outputs": [
        {
          "output_type": "stream",
          "name": "stdout",
          "text": [
            "X[0] =  [-2.33567488]\n",
            "X_poly[0] =  [-2.33567488  5.45537715]\n"
          ]
        }
      ]
    },
    {
      "cell_type": "markdown",
      "metadata": {
        "id": "proPDpyK5cro"
      },
      "source": [
        "* 확장된 훈련 데이터에 LinearRegression 적용"
      ]
    },
    {
      "cell_type": "code",
      "metadata": {
        "colab": {
          "base_uri": "https://localhost:8080/"
        },
        "id": "B6CPFjFj5ju_",
        "outputId": "bb8e5328-8923-4bfc-9b67-7bcbae2cffbf"
      },
      "source": [
        "lin_reg = LinearRegression()\n",
        "lin_reg.fit(X_poly, y)"
      ],
      "execution_count": null,
      "outputs": [
        {
          "output_type": "execute_result",
          "data": {
            "text/plain": [
              "LinearRegression(copy_X=True, fit_intercept=True, n_jobs=None, normalize=False)"
            ]
          },
          "metadata": {},
          "execution_count": 27
        }
      ]
    },
    {
      "cell_type": "code",
      "metadata": {
        "colab": {
          "base_uri": "https://localhost:8080/"
        },
        "id": "XCmdVAlx5s2J",
        "outputId": "b98344e7-b94a-415f-956c-7babece616e4"
      },
      "source": [
        "print('lin_reg.intercept_ = ', lin_reg.intercept_)\n",
        "print('lin_reg.coef_ = ', lin_reg.coef_)"
      ],
      "execution_count": null,
      "outputs": [
        {
          "output_type": "stream",
          "name": "stdout",
          "text": [
            "lin_reg.intercept_ =  [1.73157776]\n",
            "lin_reg.coef_ =  [[1.04657633 0.52359636]]\n"
          ]
        }
      ]
    },
    {
      "cell_type": "code",
      "metadata": {
        "colab": {
          "base_uri": "https://localhost:8080/",
          "height": 286
        },
        "id": "cq06_DGd7qKC",
        "outputId": "81b89e76-ba5f-4405-f105-88858539193d"
      },
      "source": [
        "# \n",
        "m = 10\n",
        "X_test = 6 * np.random.rand(m, 1) - 3\n",
        "y_test = 0.5 * X_test**2 + X_test + 2 + np.random.randn(m, 1)\n",
        "\n",
        "scatter = plt.scatter(X_test, y_test)\n",
        "\n",
        "plt.xlabel('X_test', labelpad = 10)\n",
        "plt.ylabel('y_test', labelpad = 10)\n",
        "\n",
        "plt.show()"
      ],
      "execution_count": null,
      "outputs": [
        {
          "output_type": "display_data",
          "data": {
            "image/png": "[encoded data removed]",
            "text/plain": [
              "<Figure size 432x288 with 1 Axes>"
            ]
          },
          "metadata": {
            "needs_background": "light"
          }
        }
      ]
    },
    {
      "cell_type": "code",
      "metadata": {
        "colab": {
          "base_uri": "https://localhost:8080/"
        },
        "id": "6WuGuNTy8DbL",
        "outputId": "7785beb8-6f2b-4c8c-b7ac-844e4c4a404b"
      },
      "source": [
        "from sklearn.preprocessing import PolynomialFeatures\n",
        "\n",
        "poly_features_test = PolynomialFeatures(degree=2, include_bias=False)\n",
        "X_poly_test = poly_features.fit_transform(X_test)\n",
        "\n",
        "print('X_test[0] = ', X_test[0])\n",
        "print('X_poly_test[0] = ', X_poly_test[0])\n",
        "\n",
        "lin_reg_test = LinearRegression()\n",
        "lin_reg_test.fit(X_poly_test, y_test)\n",
        "\n",
        "print('lin_reg_test.intercept_ = ', lin_reg_test.intercept_)\n",
        "print('lin_reg_test.coef_ = ', lin_reg_test.coef_)"
      ],
      "execution_count": null,
      "outputs": [
        {
          "output_type": "stream",
          "name": "stdout",
          "text": [
            "X_test[0] =  [-1.27323087]\n",
            "X_poly_test[0] =  [-1.27323087  1.62111686]\n",
            "lin_reg_test.intercept_ =  [2.0153984]\n",
            "lin_reg_test.coef_ =  [[1.04164075 0.37135898]]\n"
          ]
        }
      ]
    }
  ]
}