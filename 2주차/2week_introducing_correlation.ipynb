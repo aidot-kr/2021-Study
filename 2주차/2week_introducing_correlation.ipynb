{
 "cells": [
  {
   "cell_type": "markdown",
   "metadata": {},
   "source": [
    "상관계수 (correlation coefficient)\n",
    "- 두 변수 사이의 상관관계의 정도를 나타내는 수치\n",
    "- 대표적으로 선형적인 상관관계를 보는 Pearson's correlation coefficient가 많이 사용됨\n",
    "\n",
    "&nbsp; &nbsp; &nbsp; &nbsp; &nbsp; &nbsp; \n",
    "$r = \\rho_{X,Y} = {cov(X,Y)\\over\\sigma_x\\sigma_y} = {\\Sigma_i(x_i-\\bar{x})(y_i-\\bar{y})\\over\\sqrt{\\Sigma_i(x_i-\\bar{x})^2\\Sigma_i(y_i-\\bar{y})^2}}$\n",
    "\n",
    "- 단위가 변함에 따라 Scale이 발생, ex) m → cm    \n",
    "- scale에 관계없이 일정한 범위 안에서 값이 항상 나올수 있도록 공분산을 일정한 값을 갖는 분산으로 나누어 줌    \n",
    "\n",
    "cov : 공분산(covariance), 두 변수 사이의 상관 정도, 변수 X,Y\n",
    "\n",
    "- &nbsp; &nbsp; cov(X,Y) = $E[(X-\\mu_X)(Y-\\mu_Y)]$, <br> &nbsp; &nbsp; &nbsp; &nbsp; &nbsp; &nbsp; $\\mu_X = E[X]$\n",
    "\n",
    "$\\sigma^2$ : 분산(variance), 변수 X만 존재\n",
    "\n",
    "- &nbsp; &nbsp; $\\sigma^2 = E[(X-\\mu_X)^2] = E[X^2] - \\mu^2_X$\n",
    "\n",
    "\n",
    "상관계수(correlation coefficient)는 직선에 가까운 패턴일 수록 1 또는 -1에  근접한 상관계수 값을 보임, &nbsp;  $-1 \\le \\rho_{XY} \\le 1$\n",
    "\n",
    "If $\\rho_{XY}$ = 0, 독립  \n",
    "If $\\rho_{XY}$ = 1, 100% 상관  \n",
    "If $\\rho_{XY}$ = -1, 역의 관계  \n",
    "If -1 < $\\rho_{XY}$ < 0, Negative correlate    \n",
    "If 0 <  $\\rho_{XY}$ < 1, Positive correlate    \n"
   ]
  },
  {
   "cell_type": "code",
   "execution_count": 2,
   "metadata": {},
   "outputs": [
    {
     "data": {
      "image/png": "[encoded data removed]",
      "text/plain": [
       "<Figure size 432x288 with 1 Axes>"
      ]
     },
     "metadata": {
      "needs_background": "light"
     },
     "output_type": "display_data"
    }
   ],
   "source": [
    "import pandas as pd\n",
    "\n",
    "height = [170, 168, 177, 181 ,172, 171, 169, 175, 174, 178, 170, 167, 177, 182 ,173, 171, 170, 179, 175, 177, 186, 166, 183, 168]\n",
    "weight = [70, 66, 73, 77, 74, 73, 69, 79, 77, 80, 74, 68, 71, 76, 78, 72, 68, 79, 77, 81, 84, 73, 78, 69]\n",
    "\n",
    "# DataFrame 만들기\n",
    "\n",
    "body = pd.DataFrame(\n",
    "    {'height': height, 'weight': weight}\n",
    ")\n",
    "\n",
    "# 산점도(scatter) 그리기\n",
    "\n",
    "import matplotlib.pylab as plt\n",
    "\n",
    "plt.scatter( body['weight'], body['height'], label = \"data\")\n",
    "\n",
    "plt.legend(loc = \"best\")\n",
    "plt.xlabel('weight')\n",
    "plt.ylabel('height')\n",
    "plt.show()"
   ]
  },
  {
   "cell_type": "code",
   "execution_count": 10,
   "metadata": {},
   "outputs": [
    {
     "data": {
      "text/plain": [
       "array([[1.        , 0.76766369],\n",
       "       [0.76766369, 1.        ]])"
      ]
     },
     "execution_count": 10,
     "metadata": {},
     "output_type": "execute_result"
    }
   ],
   "source": [
    "import numpy as np\n",
    "\n",
    "x = [170, 168, 177, 181 ,172, 171, 169, 175, 174, 178, 170, 167, 177, 182 ,173, 171, 170, 179, 175, 177, 186, 166, 183, 168]\n",
    "y = [70, 66, 73, 77, 74, 73, 69, 79, 77, 80, 74, 68, 71, 76, 78, 72, 68, 79, 77, 81, 84, 73, 78, 69]\n",
    "\n",
    "# 피어슨의 상관계수\n",
    "# 공분산을 기반으로 하기 때문에, 기본적으로 등간척도, 비율척도를 사용한 변수에만 적용 가능\n",
    "\n",
    "np.corrcoef(x,y)"
   ]
  },
  {
   "cell_type": "code",
   "execution_count": 11,
   "metadata": {},
   "outputs": [
    {
     "data": {
      "text/plain": [
       "0.7676636941791979"
      ]
     },
     "execution_count": 11,
     "metadata": {},
     "output_type": "execute_result"
    }
   ],
   "source": [
    "# 두 변수의 상관관계만 확인하려면\n",
    "np.corrcoef(x,y)[0,1]"
   ]
  },
  {
   "cell_type": "code",
   "execution_count": 7,
   "metadata": {},
   "outputs": [
    {
     "data": {
      "text/plain": [
       "array([[1.15991752, 0.76766369],\n",
       "       [0.76766369, 0.86213026]])"
      ]
     },
     "execution_count": 7,
     "metadata": {},
     "output_type": "execute_result"
    }
   ],
   "source": [
    "# 아래의 원리로 계산\n",
    "cov = np.cov(x,y)         # 공분산\n",
    "xsd = np.std(x, ddof=1)   # x의 표본표준편차\n",
    "ysd = np.std(y, ddof=1)   # y의 표본표준편차\n",
    "\n",
    "cov/(xsd*ysd)"
   ]
  },
  {
   "cell_type": "code",
   "execution_count": 13,
   "metadata": {},
   "outputs": [
    {
     "data": {
      "text/plain": [
       "0.7648602129134761"
      ]
     },
     "execution_count": 13,
     "metadata": {},
     "output_type": "execute_result"
    }
   ],
   "source": [
    "import scipy.stats\n",
    "\n",
    "# 스피어만 상관계수\n",
    "# 서열척도를 사용한 변수가 포함되어 있거나, 등간/비율척도를 사용한 변수라 하더라도 두 변수간의 관계가 비선형적 일때\n",
    "\n",
    "scipy.stats.spearmanr(x, y).correlation\n"
   ]
  },
  {
   "cell_type": "code",
   "execution_count": 14,
   "metadata": {},
   "outputs": [
    {
     "data": {
      "text/plain": [
       "0.5939891598681286"
      ]
     },
     "execution_count": 14,
     "metadata": {},
     "output_type": "execute_result"
    }
   ],
   "source": [
    "# 켙달의 tau\n",
    "# 스피어만의 상관계수와 마찬가지로, 비선형적 관계이거나 서열 변수 일때\n",
    "# 스피어만의 상관계수 보다 믿을만한 것으로 알려짐 (특히 표본이 작을때)\n",
    "\n",
    "scipy.stats.kendalltau(x, y).correlation"
   ]
  }
 ],
 "metadata": {
  "kernelspec": {
   "display_name": "Python 3",
   "language": "python",
   "name": "python3"
  },
  "language_info": {
   "codemirror_mode": {
    "name": "ipython",
    "version": 3
   },
   "file_extension": ".py",
   "mimetype": "text/x-python",
   "name": "python",
   "nbconvert_exporter": "python",
   "pygments_lexer": "ipython3",
   "version": "3.7.3"
  }
 },
 "nbformat": 4,
 "nbformat_minor": 2
}
